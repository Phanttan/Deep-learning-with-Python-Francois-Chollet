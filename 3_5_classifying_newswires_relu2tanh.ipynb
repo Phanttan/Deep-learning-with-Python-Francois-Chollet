{
  "nbformat": 4,
  "nbformat_minor": 0,
  "metadata": {
    "kernelspec": {
      "display_name": "Python 3",
      "language": "python",
      "name": "python3"
    },
    "language_info": {
      "codemirror_mode": {
        "name": "ipython",
        "version": 3
      },
      "file_extension": ".py",
      "mimetype": "text/x-python",
      "name": "python",
      "nbconvert_exporter": "python",
      "pygments_lexer": "ipython3",
      "version": "3.5.2"
    },
    "colab": {
      "name": "3.5-classifying-newswires_relu2tanh.ipynb",
      "provenance": [],
      "collapsed_sections": [],
      "toc_visible": true,
      "include_colab_link": true
    }
  },
  "cells": [
    {
      "cell_type": "markdown",
      "metadata": {
        "id": "view-in-github",
        "colab_type": "text"
      },
      "source": [
        "<a href=\"https://colab.research.google.com/github/Phanttan/Deep-learning-with-Python-Francois-Chollet/blob/main/3_5_classifying_newswires_relu2tanh.ipynb\" target=\"_parent\"><img src=\"https://colab.research.google.com/assets/colab-badge.svg\" alt=\"Open In Colab\"/></a>"
      ]
    },
    {
      "cell_type": "code",
      "metadata": {
        "id": "306diWwvsHL0",
        "outputId": "39bb8e58-94eb-4998-8116-845b55c13931",
        "colab": {
          "base_uri": "https://localhost:8080/",
          "height": 36
        }
      },
      "source": [
        "import keras\n",
        "keras.__version__"
      ],
      "execution_count": null,
      "outputs": [
        {
          "output_type": "execute_result",
          "data": {
            "application/vnd.google.colaboratory.intrinsic+json": {
              "type": "string"
            },
            "text/plain": [
              "'2.4.3'"
            ]
          },
          "metadata": {
            "tags": []
          },
          "execution_count": 2
        }
      ]
    },
    {
      "cell_type": "markdown",
      "metadata": {
        "id": "qGHehYvOGy6t"
      },
      "source": [
        "## The Reuters dataset\n",
        "\n",
        "\n",
        "We will be working with the _Reuters dataset_, a set of short newswires and their topics, published by Reuters in 1986. It's a very simple, \n",
        "widely used toy dataset for text classification. There are 46 different topics; some topics are more represented than others, but each \n",
        "topic has at least 10 examples in the training set.\n",
        "\n",
        "Like IMDB and MNIST, the Reuters dataset comes packaged as part of Keras. Let's take a look right away:"
      ]
    },
    {
      "cell_type": "code",
      "metadata": {
        "id": "2DPQEP3KsHMM",
        "outputId": "f8e4b897-19de-488a-b1c9-cd99ae957963",
        "colab": {
          "base_uri": "https://localhost:8080/",
          "height": 53
        }
      },
      "source": [
        "from keras.datasets import reuters\n",
        "\n",
        "(train_data, train_labels), (test_data, test_labels) = reuters.load_data(num_words=10000)"
      ],
      "execution_count": 1,
      "outputs": [
        {
          "output_type": "stream",
          "text": [
            "Downloading data from https://storage.googleapis.com/tensorflow/tf-keras-datasets/reuters.npz\n",
            "2113536/2110848 [==============================] - 0s 0us/step\n"
          ],
          "name": "stdout"
        }
      ]
    },
    {
      "cell_type": "markdown",
      "metadata": {
        "id": "VzIZ0sueG9xn"
      },
      "source": [
        "## Preparing the data\n",
        "\n",
        "We can vectorize the data with the exact same code as in our previous example:"
      ]
    },
    {
      "cell_type": "code",
      "metadata": {
        "id": "p2de3xmGsHNX"
      },
      "source": [
        "import numpy as np\n",
        "\n",
        "def vectorize_sequences(sequences, dimension=10000):\n",
        "    results = np.zeros((len(sequences), dimension))\n",
        "    for i, sequence in enumerate(sequences):\n",
        "        results[i, sequence] = 1.\n",
        "    return results\n",
        "\n",
        "# Our vectorized training data\n",
        "x_train = vectorize_sequences(train_data)\n",
        "# Our vectorized test data\n",
        "x_test = vectorize_sequences(test_data)"
      ],
      "execution_count": 2,
      "outputs": []
    },
    {
      "cell_type": "markdown",
      "metadata": {
        "id": "osfV-dLssHNz"
      },
      "source": [
        "## Building our network\n",
        "\n",
        "\n",
        "This topic classification problem looks very similar to our previous movie review classification problem: in both cases, we are trying to \n",
        "classify short snippets of text. There is however a new constraint here: the number of output classes has gone from 2 to 46, i.e. the \n",
        "dimensionality of the output space is much larger. \n",
        "\n",
        "In a stack of `Dense` layers like what we were using, each layer can only access information present in the output of the previous layer. \n",
        "If one layer drops some information relevant to the classification problem, this information can never be recovered by later layers: each \n",
        "layer can potentially become an \"information bottleneck\". In our previous example, we were using 16-dimensional intermediate layers, but a \n",
        "16-dimensional space may be too limited to learn to separate 46 different classes: such small layers may act as information bottlenecks, \n",
        "permanently dropping relevant information.\n",
        "\n",
        "For this reason we will use larger layers. Let's go with 64 units:"
      ]
    },
    {
      "cell_type": "code",
      "metadata": {
        "id": "WAg9H6ZksHPs"
      },
      "source": [
        "from keras import models\n",
        "from keras import layers\n",
        "model = models.Sequential()\n",
        "model.add(layers.Dense(128, activation='tanh', input_shape=(10000,)))\n",
        "model.add(layers.Dense(128, activation='tanh'))\n",
        "model.add(layers.Dense(128, activation='tanh'))\n",
        "model.add(layers.Dense(46, activation='softmax'))\n",
        "\n",
        "model.compile(optimizer='rmsprop',\n",
        "              loss='sparse_categorical_crossentropy',\n",
        "              metrics=['accuracy'])"
      ],
      "execution_count": 3,
      "outputs": []
    },
    {
      "cell_type": "markdown",
      "metadata": {
        "id": "Bg0zOaEHsHOG"
      },
      "source": [
        "## Validating our approach\n",
        "\n",
        "Let's set apart 1,000 samples in our training data to use as a validation set:"
      ]
    },
    {
      "cell_type": "code",
      "metadata": {
        "id": "p36bBvYmsHPb"
      },
      "source": [
        "y_train = np.array(train_labels)\n",
        "y_test = np.array(test_labels)"
      ],
      "execution_count": 4,
      "outputs": []
    },
    {
      "cell_type": "code",
      "metadata": {
        "id": "L1UPltnFsHOI"
      },
      "source": [
        "x_val = x_train[:1000]\n",
        "partial_x_train = x_train[1000:]\n",
        "\n",
        "y_val = y_train[:1000]\n",
        "partial_y_train = y_train[1000:]"
      ],
      "execution_count": 5,
      "outputs": []
    },
    {
      "cell_type": "markdown",
      "metadata": {
        "id": "WaMJR0cgsHOM"
      },
      "source": [
        "Now let's train our network for 20 epochs:"
      ]
    },
    {
      "cell_type": "code",
      "metadata": {
        "id": "fmHxgj34sHOO",
        "outputId": "a82d7b3f-a4bc-4f22-f4e3-912cbf2d5c87",
        "colab": {
          "base_uri": "https://localhost:8080/",
          "height": 744
        }
      },
      "source": [
        "history = model.fit(partial_x_train,\n",
        "                    partial_y_train,\n",
        "                    epochs=20,\n",
        "                    batch_size=512,\n",
        "                    validation_data=(x_val, y_val))"
      ],
      "execution_count": 6,
      "outputs": [
        {
          "output_type": "stream",
          "text": [
            "Epoch 1/20\n",
            "16/16 [==============================] - 1s 81ms/step - loss: 1.8785 - accuracy: 0.5774 - val_loss: 1.2123 - val_accuracy: 0.7450\n",
            "Epoch 2/20\n",
            "16/16 [==============================] - 1s 70ms/step - loss: 0.9172 - accuracy: 0.8099 - val_loss: 0.9870 - val_accuracy: 0.7860\n",
            "Epoch 3/20\n",
            "16/16 [==============================] - 1s 69ms/step - loss: 0.5947 - accuracy: 0.8841 - val_loss: 0.8645 - val_accuracy: 0.8080\n",
            "Epoch 4/20\n",
            "16/16 [==============================] - 1s 69ms/step - loss: 0.3919 - accuracy: 0.9240 - val_loss: 0.8490 - val_accuracy: 0.8000\n",
            "Epoch 5/20\n",
            "16/16 [==============================] - 1s 69ms/step - loss: 0.2767 - accuracy: 0.9430 - val_loss: 0.8231 - val_accuracy: 0.8270\n",
            "Epoch 6/20\n",
            "16/16 [==============================] - 1s 70ms/step - loss: 0.2066 - accuracy: 0.9490 - val_loss: 0.8526 - val_accuracy: 0.8130\n",
            "Epoch 7/20\n",
            "16/16 [==============================] - 1s 70ms/step - loss: 0.1670 - accuracy: 0.9505 - val_loss: 0.8939 - val_accuracy: 0.8020\n",
            "Epoch 8/20\n",
            "16/16 [==============================] - 1s 70ms/step - loss: 0.1447 - accuracy: 0.9553 - val_loss: 0.8777 - val_accuracy: 0.8150\n",
            "Epoch 9/20\n",
            "16/16 [==============================] - 1s 69ms/step - loss: 0.1292 - accuracy: 0.9557 - val_loss: 0.8990 - val_accuracy: 0.8100\n",
            "Epoch 10/20\n",
            "16/16 [==============================] - 1s 70ms/step - loss: 0.1177 - accuracy: 0.9568 - val_loss: 0.9162 - val_accuracy: 0.8080\n",
            "Epoch 11/20\n",
            "16/16 [==============================] - 1s 69ms/step - loss: 0.1144 - accuracy: 0.9549 - val_loss: 0.9754 - val_accuracy: 0.7940\n",
            "Epoch 12/20\n",
            "16/16 [==============================] - 1s 69ms/step - loss: 0.1049 - accuracy: 0.9546 - val_loss: 0.9755 - val_accuracy: 0.7990\n",
            "Epoch 13/20\n",
            "16/16 [==============================] - 1s 69ms/step - loss: 0.0980 - accuracy: 0.9557 - val_loss: 0.9534 - val_accuracy: 0.8090\n",
            "Epoch 14/20\n",
            "16/16 [==============================] - 1s 69ms/step - loss: 0.0919 - accuracy: 0.9585 - val_loss: 0.9632 - val_accuracy: 0.7990\n",
            "Epoch 15/20\n",
            "16/16 [==============================] - 1s 69ms/step - loss: 0.0887 - accuracy: 0.9577 - val_loss: 1.0340 - val_accuracy: 0.7920\n",
            "Epoch 16/20\n",
            "16/16 [==============================] - 1s 71ms/step - loss: 0.0864 - accuracy: 0.9573 - val_loss: 1.0282 - val_accuracy: 0.7950\n",
            "Epoch 17/20\n",
            "16/16 [==============================] - 1s 70ms/step - loss: 0.0836 - accuracy: 0.9573 - val_loss: 1.0212 - val_accuracy: 0.7970\n",
            "Epoch 18/20\n",
            "16/16 [==============================] - 1s 70ms/step - loss: 0.0807 - accuracy: 0.9582 - val_loss: 1.0553 - val_accuracy: 0.7860\n",
            "Epoch 19/20\n",
            "16/16 [==============================] - 1s 69ms/step - loss: 0.0790 - accuracy: 0.9568 - val_loss: 1.0581 - val_accuracy: 0.7910\n",
            "Epoch 20/20\n",
            "16/16 [==============================] - 1s 69ms/step - loss: 0.0768 - accuracy: 0.9569 - val_loss: 1.0546 - val_accuracy: 0.7910\n"
          ],
          "name": "stdout"
        }
      ]
    },
    {
      "cell_type": "markdown",
      "metadata": {
        "id": "Jh9bC1Z8sHOV"
      },
      "source": [
        "Let's display its loss and accuracy curves:"
      ]
    },
    {
      "cell_type": "code",
      "metadata": {
        "id": "1EOCmRIOsHOX",
        "outputId": "99acdeb0-42ca-43ec-8ef5-171b12d8533c",
        "colab": {
          "base_uri": "https://localhost:8080/",
          "height": 295
        }
      },
      "source": [
        "import matplotlib.pyplot as plt\n",
        "\n",
        "loss = history.history['loss']\n",
        "val_loss = history.history['val_loss']\n",
        "\n",
        "epochs = range(1, len(loss) + 1)\n",
        "\n",
        "plt.plot(epochs, loss, 'bo', label='Training loss')\n",
        "plt.plot(epochs, val_loss, 'b', label='Validation loss')\n",
        "plt.title('Training and validation loss')\n",
        "plt.xlabel('Epochs')\n",
        "plt.ylabel('Loss')\n",
        "plt.legend()\n",
        "\n",
        "plt.show()"
      ],
      "execution_count": 7,
      "outputs": [
        {
          "output_type": "display_data",
          "data": {
            "image/png": "[encoded data removed]",
            "text/plain": [
              "<Figure size 432x288 with 1 Axes>"
            ]
          },
          "metadata": {
            "tags": [],
            "needs_background": "light"
          }
        }
      ]
    },
    {
      "cell_type": "code",
      "metadata": {
        "id": "n8AzW7X_mCPf",
        "outputId": "50974fee-a826-4997-dc81-34177928431c",
        "colab": {
          "base_uri": "https://localhost:8080/",
          "height": 35
        }
      },
      "source": [
        "history.history.keys()"
      ],
      "execution_count": 8,
      "outputs": [
        {
          "output_type": "execute_result",
          "data": {
            "text/plain": [
              "dict_keys(['loss', 'accuracy', 'val_loss', 'val_accuracy'])"
            ]
          },
          "metadata": {
            "tags": []
          },
          "execution_count": 8
        }
      ]
    },
    {
      "cell_type": "code",
      "metadata": {
        "id": "Df_CPWeNsHOb",
        "outputId": "dbb23291-d9bf-4c70-8ee7-f1ff4a0350ed",
        "colab": {
          "base_uri": "https://localhost:8080/",
          "height": 295
        }
      },
      "source": [
        "plt.clf()   # clear figure\n",
        "\n",
        "acc = history.history['accuracy']\n",
        "val_acc = history.history['val_accuracy']\n",
        "\n",
        "plt.plot(epochs, acc, 'bo', label='Training acc')\n",
        "plt.plot(epochs, val_acc, 'b', label='Validation acc')\n",
        "plt.title('Training and validation accuracy')\n",
        "plt.xlabel('Epochs')\n",
        "plt.ylabel('Loss')\n",
        "plt.legend()\n",
        "\n",
        "plt.show()"
      ],
      "execution_count": 9,
      "outputs": [
        {
          "output_type": "display_data",
          "data": {
            "image/png": "[encoded data removed]",
            "text/plain": [
              "<Figure size 432x288 with 1 Axes>"
            ]
          },
          "metadata": {
            "tags": [],
            "needs_background": "light"
          }
        }
      ]
    },
    {
      "cell_type": "markdown",
      "metadata": {
        "id": "7DTOU_7BsHOi"
      },
      "source": [
        "It seems that the network starts overfitting after 5 epochs. Let's train a new network from scratch for 5 epochs, then let's evaluate it on \n",
        "the test set:"
      ]
    },
    {
      "cell_type": "code",
      "metadata": {
        "id": "kD7fvwZIsHOj",
        "outputId": "d5ad4e1a-ce1c-449d-e220-3f6f40cdef9b",
        "colab": {
          "base_uri": "https://localhost:8080/",
          "height": 217
        }
      },
      "source": [
        "model = models.Sequential()\n",
        "model.add(layers.Dense(128, activation='tanh', input_shape=(10000,)))\n",
        "model.add(layers.Dense(128, activation='tanh'))\n",
        "model.add(layers.Dense(128, activation='tanh'))\n",
        "model.add(layers.Dense(46, activation='softmax'))\n",
        "\n",
        "model.compile(optimizer='rmsprop',\n",
        "              loss='sparse_categorical_crossentropy',\n",
        "              metrics=['accuracy'])\n",
        "model.fit(partial_x_train,\n",
        "          partial_y_train,\n",
        "          epochs=5,\n",
        "          batch_size=512,\n",
        "          validation_data=(x_val, y_val))\n",
        "results = model.evaluate(x_test, y_test)"
      ],
      "execution_count": 11,
      "outputs": [
        {
          "output_type": "stream",
          "text": [
            "Epoch 1/5\n",
            "16/16 [==============================] - 1s 76ms/step - loss: 1.8791 - accuracy: 0.5981 - val_loss: 1.2463 - val_accuracy: 0.7050\n",
            "Epoch 2/5\n",
            "16/16 [==============================] - 1s 68ms/step - loss: 0.9090 - accuracy: 0.8031 - val_loss: 0.9556 - val_accuracy: 0.8000\n",
            "Epoch 3/5\n",
            "16/16 [==============================] - 1s 68ms/step - loss: 0.5956 - accuracy: 0.8832 - val_loss: 0.8644 - val_accuracy: 0.8200\n",
            "Epoch 4/5\n",
            "16/16 [==============================] - 1s 68ms/step - loss: 0.3907 - accuracy: 0.9232 - val_loss: 0.8325 - val_accuracy: 0.8180\n",
            "Epoch 5/5\n",
            "16/16 [==============================] - 1s 67ms/step - loss: 0.2737 - accuracy: 0.9427 - val_loss: 0.8215 - val_accuracy: 0.8140\n",
            "71/71 [==============================] - 0s 3ms/step - loss: 0.9194 - accuracy: 0.7912\n"
          ],
          "name": "stdout"
        }
      ]
    },
    {
      "cell_type": "code",
      "metadata": {
        "id": "n0rV_cBwsHOr",
        "outputId": "e20b1ee9-8a34-452a-eddf-ab2dcc976999",
        "colab": {
          "base_uri": "https://localhost:8080/",
          "height": 35
        }
      },
      "source": [
        "results"
      ],
      "execution_count": null,
      "outputs": [
        {
          "output_type": "execute_result",
          "data": {
            "text/plain": [
              "[0.9852544665336609, 0.784060537815094]"
            ]
          },
          "metadata": {
            "tags": []
          },
          "execution_count": 40
        }
      ]
    },
    {
      "cell_type": "markdown",
      "metadata": {
        "id": "EXuw0CwfsHO2"
      },
      "source": [
        "## Generating predictions on new data\n",
        "\n",
        "We can verify that the `predict` method of our model instance returns a probability distribution over all 46 topics. Let's generate topic \n",
        "predictions for all of the test data:"
      ]
    },
    {
      "cell_type": "code",
      "metadata": {
        "id": "EMIc_E-hsHO5"
      },
      "source": [
        "predictions = model.predict(x_test)"
      ],
      "execution_count": null,
      "outputs": []
    },
    {
      "cell_type": "markdown",
      "metadata": {
        "id": "85IhhlvCsHO_"
      },
      "source": [
        "Each entry in `predictions` is a vector of length 46:"
      ]
    },
    {
      "cell_type": "code",
      "metadata": {
        "id": "CK_4xNmc1rpK",
        "outputId": "449b156d-416d-4ee5-eb81-7fa3c3f33872",
        "colab": {
          "base_uri": "https://localhost:8080/",
          "height": 235
        }
      },
      "source": [
        "predictions[0]"
      ],
      "execution_count": null,
      "outputs": [
        {
          "output_type": "execute_result",
          "data": {
            "text/plain": [
              "array([4.1584605e-07, 3.5419564e-06, 1.9429137e-06, 9.9919873e-01,\n",
              "       5.5723917e-04, 3.4790830e-07, 1.6423097e-06, 2.6677674e-07,\n",
              "       4.2820317e-05, 5.2972709e-08, 2.4371245e-06, 3.4276647e-05,\n",
              "       1.2422308e-06, 1.2657516e-05, 4.9231670e-07, 1.2329826e-07,\n",
              "       9.2478513e-06, 1.6267002e-06, 1.4815582e-06, 1.3647511e-05,\n",
              "       3.1361702e-05, 6.0507468e-06, 6.9931082e-07, 1.6375520e-06,\n",
              "       3.9686724e-06, 1.1339266e-07, 3.8883572e-06, 2.9497687e-07,\n",
              "       6.1166611e-06, 4.4556223e-06, 2.6348396e-05, 5.1414276e-07,\n",
              "       5.5296198e-07, 1.6376162e-06, 3.8069342e-07, 3.3730848e-07,\n",
              "       1.8397443e-05, 1.1717285e-06, 5.8334813e-06, 5.7901639e-07,\n",
              "       2.7720850e-07, 7.2587807e-07, 6.0268235e-08, 3.3386297e-07,\n",
              "       9.7336201e-09, 1.8131944e-08], dtype=float32)"
            ]
          },
          "metadata": {
            "tags": []
          },
          "execution_count": 18
        }
      ]
    },
    {
      "cell_type": "markdown",
      "metadata": {
        "id": "ZE-99zWJsHPy"
      },
      "source": [
        "## Wrapping up\n",
        "\n",
        "\n",
        "Here's what you should take away from this example:\n",
        "\n",
        "* If you are trying to classify data points between N classes, your network should end with a `Dense` layer of size N.\n",
        "* In a single-label, multi-class classification problem, your network should end with a `softmax` activation, so that it will output a \n",
        "probability distribution over the N output classes.\n",
        "* _Categorical crossentropy_ is almost always the loss function you should use for such problems. It minimizes the distance between the \n",
        "probability distributions output by the network, and the true distribution of the targets.\n",
        "* There are two ways to handle labels in multi-class classification:\n",
        "    ** Encoding the labels via \"categorical encoding\" (also known as \"one-hot encoding\") and using `categorical_crossentropy` as your loss \n",
        "function.\n",
        "    ** Encoding the labels as integers and using the `sparse_categorical_crossentropy` loss function.\n",
        "* If you need to classify data into a large number of categories, then you should avoid creating information bottlenecks in your network by having \n",
        "intermediate layers that are too small."
      ]
    }
  ]
}