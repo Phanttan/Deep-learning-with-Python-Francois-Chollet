{
  "nbformat": 4,
  "nbformat_minor": 0,
  "metadata": {
    "colab": {
      "name": "5.3-using-a-pretrained-convnet_overview.ipynb",
      "provenance": [],
      "collapsed_sections": [],
      "toc_visible": true,
      "authorship_tag": "ABX9TyMdCY6eFq8qJe1V8mQBe8MX",
      "include_colab_link": true
    },
    "kernelspec": {
      "name": "python3",
      "display_name": "Python 3"
    },
    "accelerator": "GPU"
  },
  "cells": [
    {
      "cell_type": "markdown",
      "metadata": {
        "id": "view-in-github",
        "colab_type": "text"
      },
      "source": [
        "<a href=\"https://colab.research.google.com/github/Phanttan/Deep-learning-with-Python-Francois-Chollet/blob/main/5_3_using_a_pretrained_convnet_overview.ipynb\" target=\"_parent\"><img src=\"https://colab.research.google.com/assets/colab-badge.svg\" alt=\"Open In Colab\"/></a>"
      ]
    },
    {
      "cell_type": "markdown",
      "metadata": {
        "id": "UhxN9aBzVeoo"
      },
      "source": [
        "# Feature Extraction"
      ]
    },
    {
      "cell_type": "markdown",
      "metadata": {
        "id": "f45rljgn_n3y"
      },
      "source": [
        "## Import libraries"
      ]
    },
    {
      "cell_type": "code",
      "metadata": {
        "id": "7qTIIh-cL3Rr"
      },
      "source": [
        "from keras.applications import VGG16\n",
        "import numpy as np\n",
        "import os\n",
        "from keras.preprocessing.image import ImageDataGenerator\n",
        "from google.colab import drive\n",
        "from keras import models\n",
        "from keras import layers\n",
        "from keras import optimizers\n",
        "import matplotlib.pyplot as plt"
      ],
      "execution_count": null,
      "outputs": []
    },
    {
      "cell_type": "markdown",
      "metadata": {
        "id": "fuIaquIhU412"
      },
      "source": [
        "## Loading data"
      ]
    },
    {
      "cell_type": "code",
      "metadata": {
        "id": "eCvAWutC_NAq",
        "outputId": "37f7578d-b4dc-4275-c832-be835c9b416d",
        "colab": {
          "base_uri": "https://localhost:8080/"
        }
      },
      "source": [
        "drive.mount('/content/drive/', force_remount=False) "
      ],
      "execution_count": null,
      "outputs": [
        {
          "output_type": "stream",
          "text": [
            "Mounted at /content/drive/\n"
          ],
          "name": "stdout"
        }
      ]
    },
    {
      "cell_type": "code",
      "metadata": {
        "id": "3O22dgb5Brrq"
      },
      "source": [
        "base_dir = '/content/drive/My Drive/Colab Notebooks/datasets/cats_dogs_small'\n",
        "train_dir = os.path.join(base_dir, 'train')\n",
        "validation_dir = os.path.join(base_dir, 'validation')\n",
        "test_dir = os.path.join(base_dir, 'test')"
      ],
      "execution_count": null,
      "outputs": []
    },
    {
      "cell_type": "markdown",
      "metadata": {
        "id": "63YvEEqJPGCG"
      },
      "source": [
        "## Generate convolutional base layer (VGG16)"
      ]
    },
    {
      "cell_type": "code",
      "metadata": {
        "id": "b-utk6Y8V_fb"
      },
      "source": [
        "conv_base = VGG16(include_top=False,\n",
        "                  weights='imagenet',\n",
        "                  input_shape=(150,150,3))"
      ],
      "execution_count": null,
      "outputs": []
    },
    {
      "cell_type": "code",
      "metadata": {
        "id": "nssghFZ_XIYO",
        "outputId": "8d3ddb75-5988-4e89-8081-efb4b4770908",
        "colab": {
          "base_uri": "https://localhost:8080/"
        }
      },
      "source": [
        "conv_base.summary()"
      ],
      "execution_count": null,
      "outputs": [
        {
          "output_type": "stream",
          "text": [
            "Model: \"vgg16\"\n",
            "_________________________________________________________________\n",
            "Layer (type)                 Output Shape              Param #   \n",
            "=================================================================\n",
            "input_2 (InputLayer)         [(None, 150, 150, 3)]     0         \n",
            "_________________________________________________________________\n",
            "block1_conv1 (Conv2D)        (None, 150, 150, 64)      1792      \n",
            "_________________________________________________________________\n",
            "block1_conv2 (Conv2D)        (None, 150, 150, 64)      36928     \n",
            "_________________________________________________________________\n",
            "block1_pool (MaxPooling2D)   (None, 75, 75, 64)        0         \n",
            "_________________________________________________________________\n",
            "block2_conv1 (Conv2D)        (None, 75, 75, 128)       73856     \n",
            "_________________________________________________________________\n",
            "block2_conv2 (Conv2D)        (None, 75, 75, 128)       147584    \n",
            "_________________________________________________________________\n",
            "block2_pool (MaxPooling2D)   (None, 37, 37, 128)       0         \n",
            "_________________________________________________________________\n",
            "block3_conv1 (Conv2D)        (None, 37, 37, 256)       295168    \n",
            "_________________________________________________________________\n",
            "block3_conv2 (Conv2D)        (None, 37, 37, 256)       590080    \n",
            "_________________________________________________________________\n",
            "block3_conv3 (Conv2D)        (None, 37, 37, 256)       590080    \n",
            "_________________________________________________________________\n",
            "block3_pool (MaxPooling2D)   (None, 18, 18, 256)       0         \n",
            "_________________________________________________________________\n",
            "block4_conv1 (Conv2D)        (None, 18, 18, 512)       1180160   \n",
            "_________________________________________________________________\n",
            "block4_conv2 (Conv2D)        (None, 18, 18, 512)       2359808   \n",
            "_________________________________________________________________\n",
            "block4_conv3 (Conv2D)        (None, 18, 18, 512)       2359808   \n",
            "_________________________________________________________________\n",
            "block4_pool (MaxPooling2D)   (None, 9, 9, 512)         0         \n",
            "_________________________________________________________________\n",
            "block5_conv1 (Conv2D)        (None, 9, 9, 512)         2359808   \n",
            "_________________________________________________________________\n",
            "block5_conv2 (Conv2D)        (None, 9, 9, 512)         2359808   \n",
            "_________________________________________________________________\n",
            "block5_conv3 (Conv2D)        (None, 9, 9, 512)         2359808   \n",
            "_________________________________________________________________\n",
            "block5_pool (MaxPooling2D)   (None, 4, 4, 512)         0         \n",
            "=================================================================\n",
            "Total params: 14,714,688\n",
            "Trainable params: 14,714,688\n",
            "Non-trainable params: 0\n",
            "_________________________________________________________________\n"
          ],
          "name": "stdout"
        }
      ]
    },
    {
      "cell_type": "markdown",
      "metadata": {
        "id": "lU4GeBWW_aVw"
      },
      "source": [
        "## Extracting features using pretrained convolutional base"
      ]
    },
    {
      "cell_type": "code",
      "metadata": {
        "id": "gtNBFfYRCV0u"
      },
      "source": [
        "datagen = ImageDataGenerator(rescale=1./255)\n",
        "batch_size = 20"
      ],
      "execution_count": null,
      "outputs": []
    },
    {
      "cell_type": "markdown",
      "metadata": {
        "id": "oNrsN8zpVCWr"
      },
      "source": [
        "### Create method to extract feature (using conv_base to extract)"
      ]
    },
    {
      "cell_type": "code",
      "metadata": {
        "id": "bqJGFhnpCjDJ"
      },
      "source": [
        "def extract_feature(dir, sample_count):\n",
        "  features = np.ones(shape=(sample_count, 4, 4, 512)) # conv_base has (4, 4, 512) output \n",
        "  labels = np.ones(shape=sample_count)\n",
        "  generator = datagen.flow_from_directory(\n",
        "      directory= dir,\n",
        "      target_size=(150,150),\n",
        "      class_mode='binary',\n",
        "      batch_size=batch_size)\n",
        "  i = 0\n",
        "  for inputs_batch, labels_batch in generator:\n",
        "    # Using model to predict novel inputs\n",
        "    feature_batch = conv_base.predict(inputs_batch)\n",
        "    features[i*batch_size: (i+1)*batch_size] = feature_batch\n",
        "    labels[i*batch_size:(i+1)*batch_size] = labels_batch\n",
        "    i +=1\n",
        "    if i >= sample_count:\n",
        "      break\n",
        "    return features, labels\n"
      ],
      "execution_count": null,
      "outputs": []
    },
    {
      "cell_type": "markdown",
      "metadata": {
        "id": "Izsau0sgVMId"
      },
      "source": [
        "### Extracting Data and flattening them before feeding to a densely-connected classifier"
      ]
    },
    {
      "cell_type": "markdown",
      "metadata": {
        "id": "Qz4yj2nIVQtd"
      },
      "source": [
        "#### Training\n"
      ]
    },
    {
      "cell_type": "code",
      "metadata": {
        "id": "E0hbP7hUU08r",
        "outputId": "a79587ea-5187-46ea-eadd-e89a283b1264",
        "colab": {
          "base_uri": "https://localhost:8080/"
        }
      },
      "source": [
        "train_features, train_labels =  extract_feature(train_dir, 2000)\n",
        "train_features = np.reshape(train_features, (2000, 4*4*512))\n",
        "train_features.shape"
      ],
      "execution_count": null,
      "outputs": [
        {
          "output_type": "stream",
          "text": [
            "Found 2000 images belonging to 2 classes.\n"
          ],
          "name": "stdout"
        },
        {
          "output_type": "execute_result",
          "data": {
            "text/plain": [
              "(2000, 8192)"
            ]
          },
          "metadata": {
            "tags": []
          },
          "execution_count": 31
        }
      ]
    },
    {
      "cell_type": "markdown",
      "metadata": {
        "id": "IDh4YY5Dan94"
      },
      "source": [
        "#### Validation"
      ]
    },
    {
      "cell_type": "code",
      "metadata": {
        "id": "fjGop30rZ8n-",
        "outputId": "050aab19-4df9-4732-c7c3-9fd9d39aab44",
        "colab": {
          "base_uri": "https://localhost:8080/"
        }
      },
      "source": [
        "validation_features, validation_labels = extract_feature(validation_dir, 1009)\n",
        "validation_features = np.reshape(validation_features, (1009, 4*4*512))\n",
        "validation_features.shape"
      ],
      "execution_count": null,
      "outputs": [
        {
          "output_type": "stream",
          "text": [
            "Found 1009 images belonging to 2 classes.\n"
          ],
          "name": "stdout"
        },
        {
          "output_type": "execute_result",
          "data": {
            "text/plain": [
              "(1009, 8192)"
            ]
          },
          "metadata": {
            "tags": []
          },
          "execution_count": 32
        }
      ]
    },
    {
      "cell_type": "markdown",
      "metadata": {
        "id": "_qnprp4saqV1"
      },
      "source": [
        "#### Test"
      ]
    },
    {
      "cell_type": "code",
      "metadata": {
        "id": "O8GnBn_mam9a",
        "outputId": "a97a21c2-e12b-41a7-a962-56509551777c",
        "colab": {
          "base_uri": "https://localhost:8080/"
        }
      },
      "source": [
        "test_features, test_labels = extract_feature(test_dir, 1010)\n",
        "test_features = np.reshape(test_features, (1010, 4*4*512))\n",
        "test_features.shape"
      ],
      "execution_count": null,
      "outputs": [
        {
          "output_type": "stream",
          "text": [
            "Found 1010 images belonging to 2 classes.\n"
          ],
          "name": "stdout"
        },
        {
          "output_type": "execute_result",
          "data": {
            "text/plain": [
              "(1010, 8192)"
            ]
          },
          "metadata": {
            "tags": []
          },
          "execution_count": 33
        }
      ]
    },
    {
      "cell_type": "markdown",
      "metadata": {
        "id": "nvd21EBsd_NL"
      },
      "source": [
        "### Define a model to classify data\n",
        "I got the val_acc to 0.9950, unbelievable"
      ]
    },
    {
      "cell_type": "code",
      "metadata": {
        "id": "KdBnDX9BcpiN",
        "outputId": "cd76465a-a543-461c-c0db-311bc6d94625",
        "colab": {
          "base_uri": "https://localhost:8080/"
        }
      },
      "source": [
        "model = models.Sequential()\n",
        "model.add(layers.Dense(units=256, activation='relu', input_dim=4*4*512))\n",
        "model.add(layers.Dropout(0.5))\n",
        "model.add(layers.Dense(units=1, activation='sigmoid')) # binary classifier\n",
        "\n",
        "model.compile(optimizer=optimizers.RMSprop(learning_rate=2e-5),\n",
        "              loss='binary_crossentropy',\n",
        "              metrics=['acc'])\n",
        "\n",
        "history = model.fit(train_features, train_labels, \n",
        "                    epochs=30,\n",
        "                    batch_size=20,\n",
        "                    validation_data=(validation_features, validation_labels))"
      ],
      "execution_count": null,
      "outputs": [
        {
          "output_type": "stream",
          "text": [
            "Epoch 1/30\n",
            "100/100 [==============================] - 0s 4ms/step - loss: 0.0114 - acc: 0.9955 - val_loss: 0.0246 - val_acc: 0.9881\n",
            "Epoch 2/30\n",
            "100/100 [==============================] - 0s 3ms/step - loss: 0.0085 - acc: 0.9960 - val_loss: 0.0222 - val_acc: 0.9881\n",
            "Epoch 3/30\n",
            "100/100 [==============================] - 0s 3ms/step - loss: 0.0052 - acc: 0.9980 - val_loss: 0.0198 - val_acc: 0.9881\n",
            "Epoch 4/30\n",
            "100/100 [==============================] - 0s 3ms/step - loss: 0.0056 - acc: 0.9970 - val_loss: 0.0189 - val_acc: 0.9881\n",
            "Epoch 5/30\n",
            "100/100 [==============================] - 0s 3ms/step - loss: 0.0046 - acc: 0.9965 - val_loss: 0.0168 - val_acc: 0.9891\n",
            "Epoch 6/30\n",
            "100/100 [==============================] - 0s 3ms/step - loss: 0.0035 - acc: 0.9980 - val_loss: 0.0170 - val_acc: 0.9891\n",
            "Epoch 7/30\n",
            "100/100 [==============================] - 0s 3ms/step - loss: 0.0038 - acc: 0.9985 - val_loss: 0.0173 - val_acc: 0.9891\n",
            "Epoch 8/30\n",
            "100/100 [==============================] - 0s 3ms/step - loss: 0.0023 - acc: 0.9990 - val_loss: 0.0168 - val_acc: 0.9891\n",
            "Epoch 9/30\n",
            "100/100 [==============================] - 0s 3ms/step - loss: 0.0030 - acc: 0.9985 - val_loss: 0.0158 - val_acc: 0.9891\n",
            "Epoch 10/30\n",
            "100/100 [==============================] - 0s 3ms/step - loss: 0.0028 - acc: 0.9995 - val_loss: 0.0156 - val_acc: 0.9891\n",
            "Epoch 11/30\n",
            "100/100 [==============================] - 0s 3ms/step - loss: 0.0018 - acc: 0.9995 - val_loss: 0.0150 - val_acc: 0.9901\n",
            "Epoch 12/30\n",
            "100/100 [==============================] - 0s 3ms/step - loss: 0.0016 - acc: 1.0000 - val_loss: 0.0140 - val_acc: 0.9901\n",
            "Epoch 13/30\n",
            "100/100 [==============================] - 0s 3ms/step - loss: 0.0016 - acc: 1.0000 - val_loss: 0.0142 - val_acc: 0.9901\n",
            "Epoch 14/30\n",
            "100/100 [==============================] - 0s 3ms/step - loss: 0.0011 - acc: 1.0000 - val_loss: 0.0151 - val_acc: 0.9891\n",
            "Epoch 15/30\n",
            "100/100 [==============================] - 0s 3ms/step - loss: 8.7883e-04 - acc: 1.0000 - val_loss: 0.0155 - val_acc: 0.9901\n",
            "Epoch 16/30\n",
            "100/100 [==============================] - 0s 3ms/step - loss: 8.5700e-04 - acc: 1.0000 - val_loss: 0.0151 - val_acc: 0.9891\n",
            "Epoch 17/30\n",
            "100/100 [==============================] - 0s 3ms/step - loss: 7.9377e-04 - acc: 1.0000 - val_loss: 0.0144 - val_acc: 0.9891\n",
            "Epoch 18/30\n",
            "100/100 [==============================] - 0s 3ms/step - loss: 0.0013 - acc: 0.9990 - val_loss: 0.0126 - val_acc: 0.9941\n",
            "Epoch 19/30\n",
            "100/100 [==============================] - 0s 3ms/step - loss: 4.7337e-04 - acc: 1.0000 - val_loss: 0.0133 - val_acc: 0.9921\n",
            "Epoch 20/30\n",
            "100/100 [==============================] - 0s 3ms/step - loss: 8.4053e-04 - acc: 0.9995 - val_loss: 0.0140 - val_acc: 0.9911\n",
            "Epoch 21/30\n",
            "100/100 [==============================] - 0s 3ms/step - loss: 0.0013 - acc: 0.9995 - val_loss: 0.0136 - val_acc: 0.9911\n",
            "Epoch 22/30\n",
            "100/100 [==============================] - 0s 3ms/step - loss: 9.7718e-04 - acc: 0.9995 - val_loss: 0.0123 - val_acc: 0.9950\n",
            "Epoch 23/30\n",
            "100/100 [==============================] - 0s 3ms/step - loss: 6.1201e-04 - acc: 1.0000 - val_loss: 0.0124 - val_acc: 0.9950\n",
            "Epoch 24/30\n",
            "100/100 [==============================] - 0s 3ms/step - loss: 4.5686e-04 - acc: 1.0000 - val_loss: 0.0129 - val_acc: 0.9931\n",
            "Epoch 25/30\n",
            "100/100 [==============================] - 0s 3ms/step - loss: 4.9993e-04 - acc: 1.0000 - val_loss: 0.0126 - val_acc: 0.9931\n",
            "Epoch 26/30\n",
            "100/100 [==============================] - 0s 3ms/step - loss: 3.8778e-04 - acc: 1.0000 - val_loss: 0.0131 - val_acc: 0.9921\n",
            "Epoch 27/30\n",
            "100/100 [==============================] - 0s 3ms/step - loss: 4.7794e-04 - acc: 1.0000 - val_loss: 0.0122 - val_acc: 0.9950\n",
            "Epoch 28/30\n",
            "100/100 [==============================] - 0s 4ms/step - loss: 3.6745e-04 - acc: 1.0000 - val_loss: 0.0134 - val_acc: 0.9921\n",
            "Epoch 29/30\n",
            "100/100 [==============================] - 0s 3ms/step - loss: 1.9608e-04 - acc: 1.0000 - val_loss: 0.0135 - val_acc: 0.9921\n",
            "Epoch 30/30\n",
            "100/100 [==============================] - 0s 3ms/step - loss: 2.1638e-04 - acc: 1.0000 - val_loss: 0.0141 - val_acc: 0.9911\n"
          ],
          "name": "stdout"
        }
      ]
    },
    {
      "cell_type": "markdown",
      "metadata": {
        "id": "-GZT6bVVmj3w"
      },
      "source": [
        "### Visualization the result"
      ]
    },
    {
      "cell_type": "code",
      "metadata": {
        "id": "BhS-fDSFmoUN",
        "outputId": "56e5f571-92f0-4189-d9b9-6b956b595ac6",
        "colab": {
          "base_uri": "https://localhost:8080/"
        }
      },
      "source": [
        "history.history.keys()"
      ],
      "execution_count": null,
      "outputs": [
        {
          "output_type": "execute_result",
          "data": {
            "text/plain": [
              "dict_keys(['loss', 'acc', 'val_loss', 'val_acc'])"
            ]
          },
          "metadata": {
            "tags": []
          },
          "execution_count": 35
        }
      ]
    },
    {
      "cell_type": "code",
      "metadata": {
        "id": "odM3nUhknLlI"
      },
      "source": [
        "loss = history.history['loss']\n",
        "acc = history.history['acc']\n",
        "val_loss = history.history['val_loss']\n",
        "val_acc = history.history['val_acc']"
      ],
      "execution_count": null,
      "outputs": []
    },
    {
      "cell_type": "code",
      "metadata": {
        "id": "6DSZm16FngYw",
        "outputId": "aa3a94e8-0c32-405b-9542-c54e842fb97f",
        "colab": {
          "base_uri": "https://localhost:8080/",
          "height": 547
        }
      },
      "source": [
        "epochs = range(len(acc))\n",
        "\n",
        "plt.plot(epochs, loss, 'bo', color='green', label='Training loss')\n",
        "plt.plot(epochs, val_loss, 'b', color='red', label='Validation loss')\n",
        "plt.title('Training and Validation loss')\n",
        "plt.figure()\n",
        "\n",
        "plt.plot(epochs, acc, 'bo', color='green', label='Training accuracy')\n",
        "plt.plot(epochs, val_acc, 'b', color='red', label='Validation accuracy')\n",
        "plt.title('Training and Validation Accuracy')\n",
        "plt.figure()\n",
        "\n",
        "plt.show()"
      ],
      "execution_count": null,
      "outputs": [
        {
          "output_type": "display_data",
          "data": {
            "image/png": "[encoded data removed]",
            "text/plain": [
              "<Figure size 432x288 with 1 Axes>"
            ]
          },
          "metadata": {
            "tags": [],
            "needs_background": "light"
          }
        },
        {
          "output_type": "display_data",
          "data": {
            "image/png": "[encoded data removed]",
            "text/plain": [
              "<Figure size 432x288 with 1 Axes>"
            ]
          },
          "metadata": {
            "tags": [],
            "needs_background": "light"
          }
        },
        {
          "output_type": "display_data",
          "data": {
            "text/plain": [
              "<Figure size 432x288 with 0 Axes>"
            ]
          },
          "metadata": {
            "tags": []
          }
        }
      ]
    },
    {
      "cell_type": "markdown",
      "metadata": {
        "id": "7KjO46FsWMWO"
      },
      "source": [
        ""
      ]
    },
    {
      "cell_type": "markdown",
      "metadata": {
        "id": "evewzy3-_imA"
      },
      "source": [
        "## Extracting features using data augmentation"
      ]
    },
    {
      "cell_type": "markdown",
      "metadata": {
        "id": "Gk49VOY_JvWf"
      },
      "source": [
        "### Define a model adding conv_base"
      ]
    },
    {
      "cell_type": "code",
      "metadata": {
        "id": "HlgrY3cwOz0j",
        "outputId": "453d6985-ff91-4f5c-ba29-b132dc3a899c",
        "colab": {
          "base_uri": "https://localhost:8080/"
        }
      },
      "source": [
        "model1 = models.Sequential()\n",
        "model1.add(conv_base)\n",
        "model1.add(layers.Flatten())\n",
        "model1.add(layers.Dense(256, activation='relu'))\n",
        "model1.add(layers.Dense(1, activation='sigmoid'))\n",
        "model1.summary()"
      ],
      "execution_count": null,
      "outputs": [
        {
          "output_type": "stream",
          "text": [
            "Model: \"sequential_3\"\n",
            "_________________________________________________________________\n",
            "Layer (type)                 Output Shape              Param #   \n",
            "=================================================================\n",
            "vgg16 (Functional)           (None, 4, 4, 512)         14714688  \n",
            "_________________________________________________________________\n",
            "flatten_2 (Flatten)          (None, 8192)              0         \n",
            "_________________________________________________________________\n",
            "dense_6 (Dense)              (None, 256)               2097408   \n",
            "_________________________________________________________________\n",
            "dense_7 (Dense)              (None, 1)                 257       \n",
            "=================================================================\n",
            "Total params: 16,812,353\n",
            "Trainable params: 16,812,353\n",
            "Non-trainable params: 0\n",
            "_________________________________________________________________\n"
          ],
          "name": "stdout"
        }
      ]
    },
    {
      "cell_type": "markdown",
      "metadata": {
        "id": "FnnHZyf0apaQ"
      },
      "source": [
        "#### Freezing conv_base layer to prevent weight from being updated during training"
      ]
    },
    {
      "cell_type": "code",
      "metadata": {
        "id": "MsN-RkJjbBDK"
      },
      "source": [
        "conv_base.trainable = False"
      ],
      "execution_count": null,
      "outputs": []
    },
    {
      "cell_type": "markdown",
      "metadata": {
        "id": "Rd_ZtiedQ0eR"
      },
      "source": [
        "### Training model end to end with a frozen convolutional base"
      ]
    },
    {
      "cell_type": "code",
      "metadata": {
        "id": "2ZCgVd1SQ--U"
      },
      "source": [
        "train_datagen = ImageDataGenerator(\n",
        "    rescale=1./255,\n",
        "    rotation_range=40,\n",
        "    width_shift_range=.2,\n",
        "    height_shift_range=.2,\n",
        "    shear_range=.2,\n",
        "    zoom_range=.2,\n",
        "    horizontal_flip=True,\n",
        "    fill_mode='nearest'\n",
        ")"
      ],
      "execution_count": null,
      "outputs": []
    },
    {
      "cell_type": "code",
      "metadata": {
        "id": "FWOrYGOwRuGe"
      },
      "source": [
        "test_datagen = ImageDataGenerator(rescale=1./255)"
      ],
      "execution_count": null,
      "outputs": []
    },
    {
      "cell_type": "code",
      "metadata": {
        "id": "FnomDnJiR6WO",
        "outputId": "910d2f1f-6a5c-444e-85ea-915b7abc3114",
        "colab": {
          "base_uri": "https://localhost:8080/"
        }
      },
      "source": [
        "train_generator = train_datagen.flow_from_directory(\n",
        "    train_dir,\n",
        "    target_size=(150,150),\n",
        "    class_mode='binary',\n",
        "    batch_size=20,\n",
        ")"
      ],
      "execution_count": null,
      "outputs": [
        {
          "output_type": "stream",
          "text": [
            "Found 2000 images belonging to 2 classes.\n"
          ],
          "name": "stdout"
        }
      ]
    },
    {
      "cell_type": "code",
      "metadata": {
        "id": "M3vi2eoaVgUO",
        "outputId": "c19ee181-b2a7-474e-deee-122e2763b815",
        "colab": {
          "base_uri": "https://localhost:8080/"
        }
      },
      "source": [
        "validation_generator = test_datagen.flow_from_directory(\n",
        "    test_dir,\n",
        "    target_size=(150,150),\n",
        "    class_mode='binary',\n",
        "    batch_size=20,\n",
        ")"
      ],
      "execution_count": null,
      "outputs": [
        {
          "output_type": "stream",
          "text": [
            "Found 1010 images belonging to 2 classes.\n"
          ],
          "name": "stdout"
        }
      ]
    },
    {
      "cell_type": "code",
      "metadata": {
        "id": "bbYzgz8obHug"
      },
      "source": [
        "model1.compile(optimizer=optimizers.RMSprop(learning_rate=2e-5),\n",
        "               loss='binary_crossentropy',\n",
        "               metrics=['acc'],\n",
        "               )"
      ],
      "execution_count": null,
      "outputs": []
    },
    {
      "cell_type": "code",
      "metadata": {
        "id": "_JVTFPoacJWz",
        "outputId": "ee8bc792-2835-47ca-ba32-6344f0aa1fd2",
        "colab": {
          "base_uri": "https://localhost:8080/"
        }
      },
      "source": [
        "history1 = model1.fit(\n",
        "    train_generator, \n",
        "    validation_data=validation_generator,\n",
        "    steps_per_epoch=100,\n",
        "    epochs=30,\n",
        "    validation_steps=51,\n",
        "    )"
      ],
      "execution_count": null,
      "outputs": [
        {
          "output_type": "stream",
          "text": [
            "Epoch 1/30\n",
            "100/100 [==============================] - 20s 201ms/step - loss: 0.6025 - acc: 0.6775 - val_loss: 0.4633 - val_acc: 0.8089\n",
            "Epoch 2/30\n",
            "100/100 [==============================] - 20s 197ms/step - loss: 0.4809 - acc: 0.7855 - val_loss: 0.3810 - val_acc: 0.8327\n",
            "Epoch 3/30\n",
            "100/100 [==============================] - 20s 196ms/step - loss: 0.4421 - acc: 0.8040 - val_loss: 0.3591 - val_acc: 0.8337\n",
            "Epoch 4/30\n",
            "100/100 [==============================] - 20s 196ms/step - loss: 0.4038 - acc: 0.8285 - val_loss: 0.3216 - val_acc: 0.8634\n",
            "Epoch 5/30\n",
            "100/100 [==============================] - 20s 196ms/step - loss: 0.3948 - acc: 0.8245 - val_loss: 0.3074 - val_acc: 0.8683\n",
            "Epoch 6/30\n",
            "100/100 [==============================] - 20s 197ms/step - loss: 0.3659 - acc: 0.8435 - val_loss: 0.3154 - val_acc: 0.8594\n",
            "Epoch 7/30\n",
            "100/100 [==============================] - 20s 196ms/step - loss: 0.3679 - acc: 0.8380 - val_loss: 0.2890 - val_acc: 0.8713\n",
            "Epoch 8/30\n",
            "100/100 [==============================] - 20s 196ms/step - loss: 0.3493 - acc: 0.8455 - val_loss: 0.2882 - val_acc: 0.8693\n",
            "Epoch 9/30\n",
            "100/100 [==============================] - 20s 198ms/step - loss: 0.3445 - acc: 0.8460 - val_loss: 0.2808 - val_acc: 0.8792\n",
            "Epoch 10/30\n",
            "100/100 [==============================] - 20s 196ms/step - loss: 0.3228 - acc: 0.8600 - val_loss: 0.2755 - val_acc: 0.8832\n",
            "Epoch 11/30\n",
            "100/100 [==============================] - 19s 195ms/step - loss: 0.3311 - acc: 0.8555 - val_loss: 0.2717 - val_acc: 0.8861\n",
            "Epoch 12/30\n",
            "100/100 [==============================] - 19s 194ms/step - loss: 0.3278 - acc: 0.8565 - val_loss: 0.2737 - val_acc: 0.8822\n",
            "Epoch 13/30\n",
            "100/100 [==============================] - 20s 195ms/step - loss: 0.3221 - acc: 0.8690 - val_loss: 0.2643 - val_acc: 0.8881\n",
            "Epoch 14/30\n",
            "100/100 [==============================] - 20s 197ms/step - loss: 0.3166 - acc: 0.8615 - val_loss: 0.2598 - val_acc: 0.8901\n",
            "Epoch 15/30\n",
            "100/100 [==============================] - 20s 196ms/step - loss: 0.3159 - acc: 0.8670 - val_loss: 0.2665 - val_acc: 0.8861\n",
            "Epoch 16/30\n",
            "100/100 [==============================] - 20s 202ms/step - loss: 0.3175 - acc: 0.8640 - val_loss: 0.2699 - val_acc: 0.8851\n",
            "Epoch 17/30\n",
            "100/100 [==============================] - 20s 196ms/step - loss: 0.3109 - acc: 0.8645 - val_loss: 0.2626 - val_acc: 0.8871\n",
            "Epoch 18/30\n",
            "100/100 [==============================] - 20s 197ms/step - loss: 0.3036 - acc: 0.8715 - val_loss: 0.2591 - val_acc: 0.8921\n",
            "Epoch 19/30\n",
            "100/100 [==============================] - 20s 195ms/step - loss: 0.3093 - acc: 0.8645 - val_loss: 0.2545 - val_acc: 0.8921\n",
            "Epoch 20/30\n",
            "100/100 [==============================] - 20s 195ms/step - loss: 0.2989 - acc: 0.8720 - val_loss: 0.2538 - val_acc: 0.8931\n",
            "Epoch 21/30\n",
            "100/100 [==============================] - 20s 195ms/step - loss: 0.3008 - acc: 0.8635 - val_loss: 0.2535 - val_acc: 0.8921\n",
            "Epoch 22/30\n",
            "100/100 [==============================] - 20s 197ms/step - loss: 0.3004 - acc: 0.8665 - val_loss: 0.2521 - val_acc: 0.8921\n",
            "Epoch 23/30\n",
            "100/100 [==============================] - 20s 196ms/step - loss: 0.2936 - acc: 0.8700 - val_loss: 0.2811 - val_acc: 0.8713\n",
            "Epoch 24/30\n",
            "100/100 [==============================] - 20s 197ms/step - loss: 0.2958 - acc: 0.8745 - val_loss: 0.2570 - val_acc: 0.8911\n",
            "Epoch 25/30\n",
            "100/100 [==============================] - 20s 196ms/step - loss: 0.2874 - acc: 0.8725 - val_loss: 0.2491 - val_acc: 0.8950\n",
            "Epoch 26/30\n",
            "100/100 [==============================] - 20s 196ms/step - loss: 0.2728 - acc: 0.8775 - val_loss: 0.2529 - val_acc: 0.8960\n",
            "Epoch 27/30\n",
            "100/100 [==============================] - 20s 196ms/step - loss: 0.2818 - acc: 0.8740 - val_loss: 0.2607 - val_acc: 0.8931\n",
            "Epoch 28/30\n",
            "100/100 [==============================] - 20s 196ms/step - loss: 0.2862 - acc: 0.8685 - val_loss: 0.2610 - val_acc: 0.8941\n",
            "Epoch 29/30\n",
            "100/100 [==============================] - 19s 195ms/step - loss: 0.2827 - acc: 0.8795 - val_loss: 0.2576 - val_acc: 0.8941\n",
            "Epoch 30/30\n",
            "100/100 [==============================] - 20s 197ms/step - loss: 0.2826 - acc: 0.8850 - val_loss: 0.2519 - val_acc: 0.8990\n"
          ],
          "name": "stdout"
        }
      ]
    },
    {
      "cell_type": "markdown",
      "metadata": {
        "id": "Q6CTCAxOBqNs"
      },
      "source": [
        "### Visualization the result"
      ]
    },
    {
      "cell_type": "code",
      "metadata": {
        "id": "qGGHUx_nB2Km",
        "outputId": "fe0c9d6f-e52a-4ae0-e40e-8b9550290b16",
        "colab": {
          "base_uri": "https://localhost:8080/"
        }
      },
      "source": [
        "history1.history.keys()"
      ],
      "execution_count": null,
      "outputs": [
        {
          "output_type": "execute_result",
          "data": {
            "text/plain": [
              "dict_keys(['loss', 'acc', 'val_loss', 'val_acc'])"
            ]
          },
          "metadata": {
            "tags": []
          },
          "execution_count": 46
        }
      ]
    },
    {
      "cell_type": "code",
      "metadata": {
        "id": "Hg861akNCFsc"
      },
      "source": [
        "loss1 = history1.history['loss']\n",
        "acc1 = history1.history['acc']\n",
        "val_loss1 = history1.history['val_loss']\n",
        "val_acc1 = history1.history['val_acc']"
      ],
      "execution_count": null,
      "outputs": []
    },
    {
      "cell_type": "code",
      "metadata": {
        "id": "Nj8v58l1Cdwo",
        "outputId": "b4f90daa-b653-4459-c014-694bfa9d05fa",
        "colab": {
          "base_uri": "https://localhost:8080/"
        }
      },
      "source": [
        "epochs1 = range(len(loss1))\n",
        "epochs1"
      ],
      "execution_count": null,
      "outputs": [
        {
          "output_type": "execute_result",
          "data": {
            "text/plain": [
              "range(0, 30)"
            ]
          },
          "metadata": {
            "tags": []
          },
          "execution_count": 48
        }
      ]
    },
    {
      "cell_type": "code",
      "metadata": {
        "id": "tl2KyssCCi6R",
        "outputId": "2143c997-44b3-49b3-f214-d0c9969f57d3",
        "colab": {
          "base_uri": "https://localhost:8080/",
          "height": 545
        }
      },
      "source": [
        "plt.plot(epochs1, loss1, 'bo', color='green', label='Training Loss')\n",
        "plt.plot(epochs1, val_loss1, 'b', color='red', label='Validation Loss')\n",
        "plt.title('Training and Validation Loss')\n",
        "plt.legend()\n",
        "\n",
        "plt.figure()\n",
        "\n",
        "plt.plot(epochs1, acc1, 'bo', color='green', label='Training Accuracy')\n",
        "plt.plot(epochs1, val_acc1, 'b', color='red', label='Validation Accuracy')\n",
        "plt.title('Training and Validation Accuracy')\n",
        "plt.legend()\n",
        "\n",
        "plt.show()"
      ],
      "execution_count": null,
      "outputs": [
        {
          "output_type": "display_data",
          "data": {
            "image/png": "[encoded data removed]",
            "text/plain": [
              "<Figure size 432x288 with 1 Axes>"
            ]
          },
          "metadata": {
            "tags": [],
            "needs_background": "light"
          }
        },
        {
          "output_type": "display_data",
          "data": {
            "image/png": "[encoded data removed]",
            "text/plain": [
              "<Figure size 432x288 with 1 Axes>"
            ]
          },
          "metadata": {
            "tags": [],
            "needs_background": "light"
          }
        }
      ]
    },
    {
      "cell_type": "markdown",
      "metadata": {
        "id": "oueptrfS4GmA"
      },
      "source": [
        "# Fine-Tuning"
      ]
    },
    {
      "cell_type": "code",
      "metadata": {
        "id": "UX9X6bQ_3-EF",
        "outputId": "ac496dba-a615-4294-85d3-9bdaaf91d762",
        "colab": {
          "base_uri": "https://localhost:8080/"
        }
      },
      "source": [
        "conv_base.summary()"
      ],
      "execution_count": null,
      "outputs": [
        {
          "output_type": "stream",
          "text": [
            "Model: \"vgg16\"\n",
            "_________________________________________________________________\n",
            "Layer (type)                 Output Shape              Param #   \n",
            "=================================================================\n",
            "input_2 (InputLayer)         [(None, 150, 150, 3)]     0         \n",
            "_________________________________________________________________\n",
            "block1_conv1 (Conv2D)        (None, 150, 150, 64)      1792      \n",
            "_________________________________________________________________\n",
            "block1_conv2 (Conv2D)        (None, 150, 150, 64)      36928     \n",
            "_________________________________________________________________\n",
            "block1_pool (MaxPooling2D)   (None, 75, 75, 64)        0         \n",
            "_________________________________________________________________\n",
            "block2_conv1 (Conv2D)        (None, 75, 75, 128)       73856     \n",
            "_________________________________________________________________\n",
            "block2_conv2 (Conv2D)        (None, 75, 75, 128)       147584    \n",
            "_________________________________________________________________\n",
            "block2_pool (MaxPooling2D)   (None, 37, 37, 128)       0         \n",
            "_________________________________________________________________\n",
            "block3_conv1 (Conv2D)        (None, 37, 37, 256)       295168    \n",
            "_________________________________________________________________\n",
            "block3_conv2 (Conv2D)        (None, 37, 37, 256)       590080    \n",
            "_________________________________________________________________\n",
            "block3_conv3 (Conv2D)        (None, 37, 37, 256)       590080    \n",
            "_________________________________________________________________\n",
            "block3_pool (MaxPooling2D)   (None, 18, 18, 256)       0         \n",
            "_________________________________________________________________\n",
            "block4_conv1 (Conv2D)        (None, 18, 18, 512)       1180160   \n",
            "_________________________________________________________________\n",
            "block4_conv2 (Conv2D)        (None, 18, 18, 512)       2359808   \n",
            "_________________________________________________________________\n",
            "block4_conv3 (Conv2D)        (None, 18, 18, 512)       2359808   \n",
            "_________________________________________________________________\n",
            "block4_pool (MaxPooling2D)   (None, 9, 9, 512)         0         \n",
            "_________________________________________________________________\n",
            "block5_conv1 (Conv2D)        (None, 9, 9, 512)         2359808   \n",
            "_________________________________________________________________\n",
            "block5_conv2 (Conv2D)        (None, 9, 9, 512)         2359808   \n",
            "_________________________________________________________________\n",
            "block5_conv3 (Conv2D)        (None, 9, 9, 512)         2359808   \n",
            "_________________________________________________________________\n",
            "block5_pool (MaxPooling2D)   (None, 4, 4, 512)         0         \n",
            "=================================================================\n",
            "Total params: 14,714,688\n",
            "Trainable params: 0\n",
            "Non-trainable params: 14,714,688\n",
            "_________________________________________________________________\n"
          ],
          "name": "stdout"
        }
      ]
    },
    {
      "cell_type": "markdown",
      "metadata": {
        "id": "20ItAvd_JiSt"
      },
      "source": [
        "## Set trainable layer - Fine Tune Conv block 5"
      ]
    },
    {
      "cell_type": "code",
      "metadata": {
        "id": "voNrIhNPHwYz"
      },
      "source": [
        "conv_base.trainable=True\n",
        "\n",
        "set_trainable = False\n",
        "for layer in conv_base.layers:\n",
        "  if layer.name == 'block5_conv1':\n",
        "    set_trainable = True\n",
        "  if set_trainable == True:\n",
        "    layer.trainable = True\n",
        "  else:\n",
        "    layer.trainable = False"
      ],
      "execution_count": null,
      "outputs": []
    },
    {
      "cell_type": "code",
      "metadata": {
        "id": "FtBk3l7kJ5h1",
        "outputId": "8b245589-c0be-4b90-a8a8-d601e219494c",
        "colab": {
          "base_uri": "https://localhost:8080/"
        }
      },
      "source": [
        "len(conv_base.layers)"
      ],
      "execution_count": null,
      "outputs": [
        {
          "output_type": "execute_result",
          "data": {
            "text/plain": [
              "19"
            ]
          },
          "metadata": {
            "tags": []
          },
          "execution_count": 57
        }
      ]
    },
    {
      "cell_type": "markdown",
      "metadata": {
        "id": "NHtP9WKaNX62"
      },
      "source": [
        "## Training model"
      ]
    },
    {
      "cell_type": "code",
      "metadata": {
        "id": "AWJwY5zSKgY3"
      },
      "source": [
        "model1.compile(\n",
        "    optimizer=optimizers.RMSprop(learning_rate=1e-5),\n",
        "    loss='binary_crossentropy',\n",
        "    metrics=['acc'],\n",
        "    )"
      ],
      "execution_count": null,
      "outputs": []
    },
    {
      "cell_type": "code",
      "metadata": {
        "id": "3EAVLr3NLWV9",
        "outputId": "f90f1a5e-d758-490d-d527-90834a08465f",
        "colab": {
          "base_uri": "https://localhost:8080/"
        }
      },
      "source": [
        "history2 = model1.fit(\n",
        "    train_generator,\n",
        "    epochs=100,\n",
        "    validation_data=validation_generator,\n",
        "    steps_per_epoch=100,\n",
        "    validation_steps=50,\n",
        ")"
      ],
      "execution_count": null,
      "outputs": [
        {
          "output_type": "stream",
          "text": [
            "Epoch 1/100\n",
            "100/100 [==============================] - 20s 203ms/step - loss: 0.2941 - acc: 0.8745 - val_loss: 0.2679 - val_acc: 0.8910\n",
            "Epoch 2/100\n",
            "100/100 [==============================] - 20s 201ms/step - loss: 0.2560 - acc: 0.8895 - val_loss: 0.2252 - val_acc: 0.9130\n",
            "Epoch 3/100\n",
            "100/100 [==============================] - 20s 200ms/step - loss: 0.2485 - acc: 0.8895 - val_loss: 0.2061 - val_acc: 0.9170\n",
            "Epoch 4/100\n",
            "100/100 [==============================] - 20s 201ms/step - loss: 0.2143 - acc: 0.9085 - val_loss: 0.2056 - val_acc: 0.9220\n",
            "Epoch 5/100\n",
            "100/100 [==============================] - 20s 199ms/step - loss: 0.1892 - acc: 0.9195 - val_loss: 0.2039 - val_acc: 0.9220\n",
            "Epoch 6/100\n",
            "100/100 [==============================] - 20s 201ms/step - loss: 0.1923 - acc: 0.9290 - val_loss: 0.2045 - val_acc: 0.9150\n",
            "Epoch 7/100\n",
            "100/100 [==============================] - 20s 198ms/step - loss: 0.1851 - acc: 0.9185 - val_loss: 0.1886 - val_acc: 0.9280\n",
            "Epoch 8/100\n",
            "100/100 [==============================] - 20s 199ms/step - loss: 0.1747 - acc: 0.9315 - val_loss: 0.1919 - val_acc: 0.9220\n",
            "Epoch 9/100\n",
            "100/100 [==============================] - 20s 201ms/step - loss: 0.1601 - acc: 0.9380 - val_loss: 0.1856 - val_acc: 0.9180\n",
            "Epoch 10/100\n",
            "100/100 [==============================] - 20s 199ms/step - loss: 0.1531 - acc: 0.9415 - val_loss: 0.1983 - val_acc: 0.9230\n",
            "Epoch 11/100\n",
            "100/100 [==============================] - 20s 201ms/step - loss: 0.1469 - acc: 0.9395 - val_loss: 0.2009 - val_acc: 0.9320\n",
            "Epoch 12/100\n",
            "100/100 [==============================] - 20s 201ms/step - loss: 0.1442 - acc: 0.9425 - val_loss: 0.1838 - val_acc: 0.9330\n",
            "Epoch 13/100\n",
            "100/100 [==============================] - 20s 200ms/step - loss: 0.1387 - acc: 0.9495 - val_loss: 0.1851 - val_acc: 0.9350\n",
            "Epoch 14/100\n",
            "100/100 [==============================] - 20s 201ms/step - loss: 0.1366 - acc: 0.9475 - val_loss: 0.2351 - val_acc: 0.9170\n",
            "Epoch 15/100\n",
            "100/100 [==============================] - 20s 204ms/step - loss: 0.1159 - acc: 0.9540 - val_loss: 0.1800 - val_acc: 0.9330\n",
            "Epoch 16/100\n",
            "100/100 [==============================] - 20s 201ms/step - loss: 0.1129 - acc: 0.9600 - val_loss: 0.1904 - val_acc: 0.9340\n",
            "Epoch 17/100\n",
            "100/100 [==============================] - 20s 200ms/step - loss: 0.1135 - acc: 0.9555 - val_loss: 0.1873 - val_acc: 0.9330\n",
            "Epoch 18/100\n",
            "100/100 [==============================] - 20s 200ms/step - loss: 0.1129 - acc: 0.9545 - val_loss: 0.2014 - val_acc: 0.9330\n",
            "Epoch 19/100\n",
            "100/100 [==============================] - 20s 200ms/step - loss: 0.1057 - acc: 0.9600 - val_loss: 0.2264 - val_acc: 0.9350\n",
            "Epoch 20/100\n",
            "100/100 [==============================] - 20s 200ms/step - loss: 0.0978 - acc: 0.9575 - val_loss: 0.2385 - val_acc: 0.9260\n",
            "Epoch 21/100\n",
            "100/100 [==============================] - 20s 201ms/step - loss: 0.0860 - acc: 0.9675 - val_loss: 0.1798 - val_acc: 0.9330\n",
            "Epoch 22/100\n",
            "100/100 [==============================] - 20s 199ms/step - loss: 0.0816 - acc: 0.9705 - val_loss: 0.2345 - val_acc: 0.9330\n",
            "Epoch 23/100\n",
            "100/100 [==============================] - 20s 200ms/step - loss: 0.0898 - acc: 0.9630 - val_loss: 0.2096 - val_acc: 0.9280\n",
            "Epoch 24/100\n",
            "100/100 [==============================] - 20s 200ms/step - loss: 0.0775 - acc: 0.9660 - val_loss: 0.1888 - val_acc: 0.9350\n",
            "Epoch 25/100\n",
            "100/100 [==============================] - 20s 200ms/step - loss: 0.0882 - acc: 0.9665 - val_loss: 0.1833 - val_acc: 0.9390\n",
            "Epoch 26/100\n",
            "100/100 [==============================] - 20s 199ms/step - loss: 0.0770 - acc: 0.9720 - val_loss: 0.2876 - val_acc: 0.9160\n",
            "Epoch 27/100\n",
            "100/100 [==============================] - 20s 201ms/step - loss: 0.0855 - acc: 0.9710 - val_loss: 0.1950 - val_acc: 0.9350\n",
            "Epoch 28/100\n",
            "100/100 [==============================] - 20s 199ms/step - loss: 0.0777 - acc: 0.9725 - val_loss: 0.3233 - val_acc: 0.9140\n",
            "Epoch 29/100\n",
            "100/100 [==============================] - 20s 199ms/step - loss: 0.0693 - acc: 0.9730 - val_loss: 0.3758 - val_acc: 0.9010\n",
            "Epoch 30/100\n",
            "100/100 [==============================] - 20s 205ms/step - loss: 0.0774 - acc: 0.9685 - val_loss: 0.2312 - val_acc: 0.9370\n",
            "Epoch 31/100\n",
            "100/100 [==============================] - 20s 198ms/step - loss: 0.0719 - acc: 0.9740 - val_loss: 0.2143 - val_acc: 0.9380\n",
            "Epoch 32/100\n",
            "100/100 [==============================] - 20s 200ms/step - loss: 0.0658 - acc: 0.9770 - val_loss: 0.2735 - val_acc: 0.9220\n",
            "Epoch 33/100\n",
            "100/100 [==============================] - 20s 198ms/step - loss: 0.0601 - acc: 0.9775 - val_loss: 0.2168 - val_acc: 0.9350\n",
            "Epoch 34/100\n",
            "100/100 [==============================] - 20s 198ms/step - loss: 0.0543 - acc: 0.9820 - val_loss: 0.2499 - val_acc: 0.9260\n",
            "Epoch 35/100\n",
            "100/100 [==============================] - 20s 198ms/step - loss: 0.0600 - acc: 0.9750 - val_loss: 0.2259 - val_acc: 0.9300\n",
            "Epoch 36/100\n",
            "100/100 [==============================] - 20s 201ms/step - loss: 0.0445 - acc: 0.9855 - val_loss: 0.2317 - val_acc: 0.9430\n",
            "Epoch 37/100\n",
            "100/100 [==============================] - 20s 199ms/step - loss: 0.0611 - acc: 0.9745 - val_loss: 0.2572 - val_acc: 0.9330\n",
            "Epoch 38/100\n",
            "100/100 [==============================] - 20s 198ms/step - loss: 0.0636 - acc: 0.9780 - val_loss: 0.2109 - val_acc: 0.9400\n",
            "Epoch 39/100\n",
            "100/100 [==============================] - 20s 198ms/step - loss: 0.0699 - acc: 0.9740 - val_loss: 0.2825 - val_acc: 0.9230\n",
            "Epoch 40/100\n",
            "100/100 [==============================] - 20s 199ms/step - loss: 0.0485 - acc: 0.9820 - val_loss: 0.2261 - val_acc: 0.9350\n",
            "Epoch 41/100\n",
            "100/100 [==============================] - 20s 199ms/step - loss: 0.0473 - acc: 0.9820 - val_loss: 0.2599 - val_acc: 0.9320\n",
            "Epoch 42/100\n",
            "100/100 [==============================] - 20s 199ms/step - loss: 0.0524 - acc: 0.9805 - val_loss: 0.3152 - val_acc: 0.9230\n",
            "Epoch 43/100\n",
            "100/100 [==============================] - 20s 198ms/step - loss: 0.0469 - acc: 0.9825 - val_loss: 0.3202 - val_acc: 0.9280\n",
            "Epoch 44/100\n",
            "100/100 [==============================] - 20s 202ms/step - loss: 0.0406 - acc: 0.9880 - val_loss: 0.2447 - val_acc: 0.9360\n",
            "Epoch 45/100\n",
            "100/100 [==============================] - 20s 202ms/step - loss: 0.0384 - acc: 0.9845 - val_loss: 0.2543 - val_acc: 0.9340\n",
            "Epoch 46/100\n",
            "100/100 [==============================] - 20s 201ms/step - loss: 0.0416 - acc: 0.9840 - val_loss: 0.3020 - val_acc: 0.9240\n",
            "Epoch 47/100\n",
            "100/100 [==============================] - 20s 198ms/step - loss: 0.0431 - acc: 0.9840 - val_loss: 0.2288 - val_acc: 0.9380\n",
            "Epoch 48/100\n",
            "100/100 [==============================] - 20s 199ms/step - loss: 0.0377 - acc: 0.9840 - val_loss: 0.3473 - val_acc: 0.9270\n",
            "Epoch 49/100\n",
            "100/100 [==============================] - 20s 198ms/step - loss: 0.0380 - acc: 0.9860 - val_loss: 0.2642 - val_acc: 0.9350\n",
            "Epoch 50/100\n",
            "100/100 [==============================] - 20s 198ms/step - loss: 0.0493 - acc: 0.9820 - val_loss: 0.2402 - val_acc: 0.9350\n",
            "Epoch 51/100\n",
            "100/100 [==============================] - 20s 201ms/step - loss: 0.0296 - acc: 0.9890 - val_loss: 0.3708 - val_acc: 0.9260\n",
            "Epoch 52/100\n",
            "100/100 [==============================] - 20s 199ms/step - loss: 0.0392 - acc: 0.9845 - val_loss: 0.2562 - val_acc: 0.9360\n",
            "Epoch 53/100\n",
            "100/100 [==============================] - 20s 200ms/step - loss: 0.0387 - acc: 0.9825 - val_loss: 0.3064 - val_acc: 0.9330\n",
            "Epoch 54/100\n",
            "100/100 [==============================] - 20s 198ms/step - loss: 0.0327 - acc: 0.9885 - val_loss: 0.2544 - val_acc: 0.9340\n",
            "Epoch 55/100\n",
            "100/100 [==============================] - 20s 198ms/step - loss: 0.0282 - acc: 0.9885 - val_loss: 0.2766 - val_acc: 0.9400\n",
            "Epoch 56/100\n",
            "100/100 [==============================] - 20s 199ms/step - loss: 0.0357 - acc: 0.9885 - val_loss: 0.2788 - val_acc: 0.9340\n",
            "Epoch 57/100\n",
            "100/100 [==============================] - 20s 199ms/step - loss: 0.0363 - acc: 0.9880 - val_loss: 0.2884 - val_acc: 0.9330\n",
            "Epoch 58/100\n",
            "100/100 [==============================] - 20s 199ms/step - loss: 0.0460 - acc: 0.9855 - val_loss: 0.2974 - val_acc: 0.9330\n",
            "Epoch 59/100\n",
            "100/100 [==============================] - 20s 198ms/step - loss: 0.0276 - acc: 0.9900 - val_loss: 0.2460 - val_acc: 0.9380\n",
            "Epoch 60/100\n",
            "100/100 [==============================] - 20s 200ms/step - loss: 0.0329 - acc: 0.9915 - val_loss: 0.2677 - val_acc: 0.9420\n",
            "Epoch 61/100\n",
            "100/100 [==============================] - 20s 205ms/step - loss: 0.0266 - acc: 0.9895 - val_loss: 0.2958 - val_acc: 0.9380\n",
            "Epoch 62/100\n",
            "100/100 [==============================] - 20s 198ms/step - loss: 0.0302 - acc: 0.9900 - val_loss: 0.2578 - val_acc: 0.9310\n",
            "Epoch 63/100\n",
            "100/100 [==============================] - 20s 198ms/step - loss: 0.0270 - acc: 0.9915 - val_loss: 0.2446 - val_acc: 0.9450\n",
            "Epoch 64/100\n",
            "100/100 [==============================] - 20s 199ms/step - loss: 0.0190 - acc: 0.9945 - val_loss: 0.2638 - val_acc: 0.9360\n",
            "Epoch 65/100\n",
            "100/100 [==============================] - 20s 200ms/step - loss: 0.0293 - acc: 0.9880 - val_loss: 0.2865 - val_acc: 0.9330\n",
            "Epoch 66/100\n",
            "100/100 [==============================] - 20s 199ms/step - loss: 0.0327 - acc: 0.9885 - val_loss: 0.2828 - val_acc: 0.9360\n",
            "Epoch 67/100\n",
            "100/100 [==============================] - 20s 199ms/step - loss: 0.0291 - acc: 0.9900 - val_loss: 0.3466 - val_acc: 0.9210\n",
            "Epoch 68/100\n",
            "100/100 [==============================] - 20s 199ms/step - loss: 0.0379 - acc: 0.9865 - val_loss: 0.2529 - val_acc: 0.9400\n",
            "Epoch 69/100\n",
            "100/100 [==============================] - 20s 199ms/step - loss: 0.0304 - acc: 0.9915 - val_loss: 0.2604 - val_acc: 0.9410\n",
            "Epoch 70/100\n",
            "100/100 [==============================] - 20s 199ms/step - loss: 0.0261 - acc: 0.9910 - val_loss: 0.2922 - val_acc: 0.9390\n",
            "Epoch 71/100\n",
            "100/100 [==============================] - 20s 196ms/step - loss: 0.0341 - acc: 0.9875 - val_loss: 0.3460 - val_acc: 0.9280\n",
            "Epoch 72/100\n",
            "100/100 [==============================] - 20s 198ms/step - loss: 0.0322 - acc: 0.9895 - val_loss: 0.2513 - val_acc: 0.9420\n",
            "Epoch 73/100\n",
            "100/100 [==============================] - 20s 197ms/step - loss: 0.0301 - acc: 0.9905 - val_loss: 0.2863 - val_acc: 0.9410\n",
            "Epoch 74/100\n",
            "100/100 [==============================] - 20s 199ms/step - loss: 0.0221 - acc: 0.9920 - val_loss: 0.3469 - val_acc: 0.9280\n",
            "Epoch 75/100\n",
            "100/100 [==============================] - 20s 198ms/step - loss: 0.0304 - acc: 0.9865 - val_loss: 0.3229 - val_acc: 0.9370\n",
            "Epoch 76/100\n",
            "100/100 [==============================] - 20s 203ms/step - loss: 0.0257 - acc: 0.9895 - val_loss: 0.3317 - val_acc: 0.9300\n",
            "Epoch 77/100\n",
            "100/100 [==============================] - 20s 201ms/step - loss: 0.0260 - acc: 0.9895 - val_loss: 0.3114 - val_acc: 0.9440\n",
            "Epoch 78/100\n",
            "100/100 [==============================] - 20s 198ms/step - loss: 0.0199 - acc: 0.9915 - val_loss: 0.2753 - val_acc: 0.9470\n",
            "Epoch 79/100\n",
            "100/100 [==============================] - 20s 200ms/step - loss: 0.0310 - acc: 0.9895 - val_loss: 0.4756 - val_acc: 0.9070\n",
            "Epoch 80/100\n",
            "100/100 [==============================] - 20s 199ms/step - loss: 0.0201 - acc: 0.9965 - val_loss: 0.2880 - val_acc: 0.9460\n",
            "Epoch 81/100\n",
            "100/100 [==============================] - 20s 201ms/step - loss: 0.0276 - acc: 0.9920 - val_loss: 0.2851 - val_acc: 0.9440\n",
            "Epoch 82/100\n",
            "100/100 [==============================] - 20s 201ms/step - loss: 0.0189 - acc: 0.9940 - val_loss: 0.3631 - val_acc: 0.9310\n",
            "Epoch 83/100\n",
            "100/100 [==============================] - 20s 203ms/step - loss: 0.0294 - acc: 0.9880 - val_loss: 0.3576 - val_acc: 0.9390\n",
            "Epoch 84/100\n",
            "100/100 [==============================] - 20s 202ms/step - loss: 0.0119 - acc: 0.9955 - val_loss: 0.3512 - val_acc: 0.9360\n",
            "Epoch 85/100\n",
            "100/100 [==============================] - 20s 200ms/step - loss: 0.0187 - acc: 0.9945 - val_loss: 0.2953 - val_acc: 0.9320\n",
            "Epoch 86/100\n",
            "100/100 [==============================] - 20s 200ms/step - loss: 0.0257 - acc: 0.9900 - val_loss: 0.5681 - val_acc: 0.9140\n",
            "Epoch 87/100\n",
            "100/100 [==============================] - 20s 199ms/step - loss: 0.0206 - acc: 0.9930 - val_loss: 0.2751 - val_acc: 0.9440\n",
            "Epoch 88/100\n",
            "100/100 [==============================] - 20s 199ms/step - loss: 0.0224 - acc: 0.9910 - val_loss: 0.4010 - val_acc: 0.9320\n",
            "Epoch 89/100\n",
            "100/100 [==============================] - 20s 199ms/step - loss: 0.0193 - acc: 0.9910 - val_loss: 0.2868 - val_acc: 0.9420\n",
            "Epoch 90/100\n",
            "100/100 [==============================] - 20s 199ms/step - loss: 0.0271 - acc: 0.9905 - val_loss: 0.2939 - val_acc: 0.9390\n",
            "Epoch 91/100\n",
            "100/100 [==============================] - 20s 198ms/step - loss: 0.0261 - acc: 0.9935 - val_loss: 0.3083 - val_acc: 0.9390\n",
            "Epoch 92/100\n",
            "100/100 [==============================] - 21s 207ms/step - loss: 0.0205 - acc: 0.9930 - val_loss: 0.3233 - val_acc: 0.9400\n",
            "Epoch 93/100\n",
            "100/100 [==============================] - 20s 202ms/step - loss: 0.0145 - acc: 0.9955 - val_loss: 0.2905 - val_acc: 0.9390\n",
            "Epoch 94/100\n",
            "100/100 [==============================] - 20s 200ms/step - loss: 0.0237 - acc: 0.9920 - val_loss: 0.3011 - val_acc: 0.9380\n",
            "Epoch 95/100\n",
            "100/100 [==============================] - 20s 200ms/step - loss: 0.0223 - acc: 0.9935 - val_loss: 0.2928 - val_acc: 0.9370\n",
            "Epoch 96/100\n",
            "100/100 [==============================] - 20s 200ms/step - loss: 0.0243 - acc: 0.9935 - val_loss: 0.3078 - val_acc: 0.9380\n",
            "Epoch 97/100\n",
            "100/100 [==============================] - 20s 203ms/step - loss: 0.0154 - acc: 0.9965 - val_loss: 0.2805 - val_acc: 0.9450\n",
            "Epoch 98/100\n",
            "100/100 [==============================] - 20s 201ms/step - loss: 0.0151 - acc: 0.9935 - val_loss: 0.3415 - val_acc: 0.9360\n",
            "Epoch 99/100\n",
            "100/100 [==============================] - 20s 203ms/step - loss: 0.0146 - acc: 0.9950 - val_loss: 0.4221 - val_acc: 0.9300\n",
            "Epoch 100/100\n",
            "100/100 [==============================] - 20s 205ms/step - loss: 0.0126 - acc: 0.9950 - val_loss: 0.3974 - val_acc: 0.9380\n"
          ],
          "name": "stdout"
        }
      ]
    },
    {
      "cell_type": "markdown",
      "metadata": {
        "id": "UH2AfG46NgJo"
      },
      "source": [
        "## Visualization the result"
      ]
    },
    {
      "cell_type": "code",
      "metadata": {
        "id": "dBG48JeAM852",
        "outputId": "e2565907-d4bc-487b-f858-be0ffed5445b",
        "colab": {
          "base_uri": "https://localhost:8080/",
          "height": 545
        }
      },
      "source": [
        "loss2 = history2.history['loss']\n",
        "acc2 = history2.history['acc']\n",
        "val_loss2 = history2.history['val_loss']\n",
        "val_acc2 = history2.history['val_acc']\n",
        "\n",
        "epochs2 = range(len(loss2))\n",
        "\n",
        "plt.plot(epochs2, loss2, 'bo', color='green', label='Training Loss')\n",
        "plt.plot(epochs2, acc2, 'b', color='red', label='Validation Loss')\n",
        "plt.title('Training and Validation Loss')\n",
        "plt.legend()\n",
        "\n",
        "plt.figure()\n",
        "\n",
        "plt.plot(epochs2, val_loss2, 'bo', color='green', label='Training Accuracy')\n",
        "plt.plot(epochs2, val_acc2, 'b', color='red', label='Validation Accuracy')\n",
        "plt.title('Training and Validation Accuracy')\n",
        "plt.legend()\n",
        "\n",
        "plt.show()"
      ],
      "execution_count": null,
      "outputs": [
        {
          "output_type": "display_data",
          "data": {
            "image/png": "[encoded data removed]",
            "text/plain": [
              "<Figure size 432x288 with 1 Axes>"
            ]
          },
          "metadata": {
            "tags": [],
            "needs_background": "light"
          }
        },
        {
          "output_type": "display_data",
          "data": {
            "image/png": "[encoded data removed]",
            "text/plain": [
              "<Figure size 432x288 with 1 Axes>"
            ]
          },
          "metadata": {
            "tags": [],
            "needs_background": "light"
          }
        }
      ]
    },
    {
      "cell_type": "markdown",
      "metadata": {
        "id": "lUAT28kSVCcD"
      },
      "source": [
        "## Evaluation the model"
      ]
    },
    {
      "cell_type": "code",
      "metadata": {
        "id": "X_LKs8eAVdgV",
        "outputId": "54a1aa45-c3b6-4b4c-8034-8cab09fe6d24",
        "colab": {
          "base_uri": "https://localhost:8080/"
        }
      },
      "source": [
        "test_generator = test_datagen.flow_from_directory(\n",
        "    test_dir,\n",
        "    target_size=(150,150),\n",
        "    batch_size=20,\n",
        "    class_mode='binary',\n",
        ")"
      ],
      "execution_count": null,
      "outputs": [
        {
          "output_type": "stream",
          "text": [
            "Found 1010 images belonging to 2 classes.\n"
          ],
          "name": "stdout"
        }
      ]
    },
    {
      "cell_type": "code",
      "metadata": {
        "id": "tuZoV0ICV0-J",
        "outputId": "b1c4df50-46a2-4e16-cacc-622dcbc9164d",
        "colab": {
          "base_uri": "https://localhost:8080/"
        }
      },
      "source": [
        "test_loss, test_acc = model1.evaluate_generator(test_generator,steps=50)\n",
        "test_acc"
      ],
      "execution_count": null,
      "outputs": [
        {
          "output_type": "stream",
          "text": [
            "WARNING:tensorflow:From <ipython-input-62-1bf44bd9e41c>:1: Model.evaluate_generator (from tensorflow.python.keras.engine.training) is deprecated and will be removed in a future version.\n",
            "Instructions for updating:\n",
            "Please use Model.evaluate, which supports generators.\n"
          ],
          "name": "stdout"
        },
        {
          "output_type": "execute_result",
          "data": {
            "text/plain": [
              "0.9380000233650208"
            ]
          },
          "metadata": {
            "tags": []
          },
          "execution_count": 62
        }
      ]
    },
    {
      "cell_type": "markdown",
      "metadata": {
        "id": "RIp6bHlWNLeR"
      },
      "source": [
        "# Discovery more Data which generation from ImageDataGenerator"
      ]
    },
    {
      "cell_type": "code",
      "metadata": {
        "id": "qE4yO5UVNWyD",
        "outputId": "d6f5d167-ddc2-474d-c113-ce120cad928b",
        "colab": {
          "base_uri": "https://localhost:8080/"
        }
      },
      "source": [
        "generator = datagen.flow_from_directory(\n",
        "    directory=validation_dir,\n",
        "    target_size=(150,150),\n",
        "    class_mode='binary',\n",
        "    batch_size=batch_size\n",
        ")"
      ],
      "execution_count": null,
      "outputs": [
        {
          "output_type": "stream",
          "text": [
            "Found 1009 images belonging to 2 classes.\n"
          ],
          "name": "stdout"
        }
      ]
    },
    {
      "cell_type": "code",
      "metadata": {
        "id": "pzxaLT8vNxF3",
        "outputId": "4635ada3-2026-42ce-a540-74062bf8f163",
        "colab": {
          "base_uri": "https://localhost:8080/"
        }
      },
      "source": [
        "generator.labels.shape"
      ],
      "execution_count": null,
      "outputs": [
        {
          "output_type": "execute_result",
          "data": {
            "text/plain": [
              "(2000,)"
            ]
          },
          "metadata": {
            "tags": []
          },
          "execution_count": 34
        }
      ]
    }
  ]
}