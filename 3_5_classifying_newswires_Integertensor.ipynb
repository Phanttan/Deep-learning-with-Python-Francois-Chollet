{
  "nbformat": 4,
  "nbformat_minor": 0,
  "metadata": {
    "kernelspec": {
      "display_name": "Python 3",
      "language": "python",
      "name": "python3"
    },
    "language_info": {
      "codemirror_mode": {
        "name": "ipython",
        "version": 3
      },
      "file_extension": ".py",
      "mimetype": "text/x-python",
      "name": "python",
      "nbconvert_exporter": "python",
      "pygments_lexer": "ipython3",
      "version": "3.5.2"
    },
    "colab": {
      "name": "3.5-classifying-newswires_Integertensor.ipynb",
      "provenance": [],
      "collapsed_sections": [],
      "include_colab_link": true
    }
  },
  "cells": [
    {
      "cell_type": "markdown",
      "metadata": {
        "id": "view-in-github",
        "colab_type": "text"
      },
      "source": [
        "<a href=\"https://colab.research.google.com/github/Phanttan/Deep-learning-with-Python-Francois-Chollet/blob/main/3_5_classifying_newswires_Integertensor.ipynb\" target=\"_parent\"><img src=\"https://colab.research.google.com/assets/colab-badge.svg\" alt=\"Open In Colab\"/></a>"
      ]
    },
    {
      "cell_type": "code",
      "metadata": {
        "id": "306diWwvsHL0",
        "outputId": "39bb8e58-94eb-4998-8116-845b55c13931",
        "colab": {
          "base_uri": "https://localhost:8080/",
          "height": 36
        }
      },
      "source": [
        "import keras\n",
        "keras.__version__"
      ],
      "execution_count": null,
      "outputs": [
        {
          "output_type": "execute_result",
          "data": {
            "application/vnd.google.colaboratory.intrinsic+json": {
              "type": "string"
            },
            "text/plain": [
              "'2.4.3'"
            ]
          },
          "metadata": {
            "tags": []
          },
          "execution_count": 2
        }
      ]
    },
    {
      "cell_type": "markdown",
      "metadata": {
        "id": "qGHehYvOGy6t"
      },
      "source": [
        "## The Reuters dataset\n",
        "\n",
        "\n",
        "We will be working with the _Reuters dataset_, a set of short newswires and their topics, published by Reuters in 1986. It's a very simple, \n",
        "widely used toy dataset for text classification. There are 46 different topics; some topics are more represented than others, but each \n",
        "topic has at least 10 examples in the training set.\n",
        "\n",
        "Like IMDB and MNIST, the Reuters dataset comes packaged as part of Keras. Let's take a look right away:"
      ]
    },
    {
      "cell_type": "code",
      "metadata": {
        "id": "2DPQEP3KsHMM",
        "outputId": "14d10c70-662d-45ce-b7d5-dd87c844bf6f",
        "colab": {
          "base_uri": "https://localhost:8080/",
          "height": 53
        }
      },
      "source": [
        "from keras.datasets import reuters\n",
        "\n",
        "(train_data, train_labels), (test_data, test_labels) = reuters.load_data(num_words=10000)"
      ],
      "execution_count": 3,
      "outputs": [
        {
          "output_type": "stream",
          "text": [
            "Downloading data from https://storage.googleapis.com/tensorflow/tf-keras-datasets/reuters.npz\n",
            "2113536/2110848 [==============================] - 0s 0us/step\n"
          ],
          "name": "stdout"
        }
      ]
    },
    {
      "cell_type": "markdown",
      "metadata": {
        "id": "VzIZ0sueG9xn"
      },
      "source": [
        "## Preparing the data\n",
        "\n",
        "We can vectorize the data with the exact same code as in our previous example:"
      ]
    },
    {
      "cell_type": "code",
      "metadata": {
        "id": "4L8hUhgtsHM7",
        "outputId": "7d4bdf99-977e-41b0-da05-b35c6f60cb8f",
        "colab": {
          "base_uri": "https://localhost:8080/",
          "height": 53
        }
      },
      "source": [
        "word_index = reuters.get_word_index()\n",
        "reverse_word_index = dict([(value, key) for (key, value) in word_index.items()])\n",
        "# Note that our indices were offset by 3\n",
        "# because 0, 1 and 2 are reserved indices for \"padding\", \"start of sequence\", and \"unknown\".\n",
        "decoded_newswire = ' '.join([reverse_word_index.get(i - 3, '?') for i in train_data[0]])"
      ],
      "execution_count": 4,
      "outputs": [
        {
          "output_type": "stream",
          "text": [
            "Downloading data from https://storage.googleapis.com/tensorflow/tf-keras-datasets/reuters_word_index.json\n",
            "557056/550378 [==============================] - 0s 0us/step\n"
          ],
          "name": "stdout"
        }
      ]
    },
    {
      "cell_type": "code",
      "metadata": {
        "id": "lNfO4ShHsHNE",
        "outputId": "a1c5e273-7cd2-4812-e01c-62f1e3e440df",
        "colab": {
          "base_uri": "https://localhost:8080/",
          "height": 72
        }
      },
      "source": [
        "decoded_newswire"
      ],
      "execution_count": 5,
      "outputs": [
        {
          "output_type": "execute_result",
          "data": {
            "application/vnd.google.colaboratory.intrinsic+json": {
              "type": "string"
            },
            "text/plain": [
              "'? ? ? said as a result of its december acquisition of space co it expects earnings per share in 1987 of 1 15 to 1 30 dlrs per share up from 70 cts in 1986 the company said pretax net should rise to nine to 10 mln dlrs from six mln dlrs in 1986 and rental operation revenues to 19 to 22 mln dlrs from 12 5 mln dlrs it said cash flow per share this year should be 2 50 to three dlrs reuter 3'"
            ]
          },
          "metadata": {
            "tags": []
          },
          "execution_count": 5
        }
      ]
    },
    {
      "cell_type": "code",
      "metadata": {
        "id": "p2de3xmGsHNX"
      },
      "source": [
        "import numpy as np\n",
        "\n",
        "def vectorize_sequences(sequences, dimension=10000):\n",
        "    results = np.zeros((len(sequences), dimension))\n",
        "    for i, sequence in enumerate(sequences):\n",
        "        results[i, sequence] = 1.\n",
        "    return results\n",
        "\n",
        "# Our vectorized training data\n",
        "x_train = vectorize_sequences(train_data)\n",
        "# Our vectorized test data\n",
        "x_test = vectorize_sequences(test_data)"
      ],
      "execution_count": 6,
      "outputs": []
    },
    {
      "cell_type": "code",
      "metadata": {
        "id": "L54-CbFJsHNq"
      },
      "source": [
        "from keras.utils.np_utils import to_categorical\n",
        "\n",
        "one_hot_train_labels = to_categorical(train_labels)\n",
        "one_hot_test_labels = to_categorical(test_labels)"
      ],
      "execution_count": 7,
      "outputs": []
    },
    {
      "cell_type": "code",
      "metadata": {
        "id": "Liit_317g194",
        "outputId": "60fb8546-985f-4b79-bd89-d297dbdd8911",
        "colab": {
          "base_uri": "https://localhost:8080/",
          "height": 35
        }
      },
      "source": [
        "train_labels.max()"
      ],
      "execution_count": 8,
      "outputs": [
        {
          "output_type": "execute_result",
          "data": {
            "text/plain": [
              "45"
            ]
          },
          "metadata": {
            "tags": []
          },
          "execution_count": 8
        }
      ]
    },
    {
      "cell_type": "markdown",
      "metadata": {
        "id": "osfV-dLssHNz"
      },
      "source": [
        "## Building our network\n",
        "\n",
        "\n",
        "This topic classification problem looks very similar to our previous movie review classification problem: in both cases, we are trying to \n",
        "classify short snippets of text. There is however a new constraint here: the number of output classes has gone from 2 to 46, i.e. the \n",
        "dimensionality of the output space is much larger. \n",
        "\n",
        "In a stack of `Dense` layers like what we were using, each layer can only access information present in the output of the previous layer. \n",
        "If one layer drops some information relevant to the classification problem, this information can never be recovered by later layers: each \n",
        "layer can potentially become an \"information bottleneck\". In our previous example, we were using 16-dimensional intermediate layers, but a \n",
        "16-dimensional space may be too limited to learn to separate 46 different classes: such small layers may act as information bottlenecks, \n",
        "permanently dropping relevant information.\n",
        "\n",
        "For this reason we will use larger layers. Let's go with 64 units:"
      ]
    },
    {
      "cell_type": "code",
      "metadata": {
        "id": "pNMaSMpTsHN2"
      },
      "source": [
        "from keras import models\n",
        "from keras import layers\n",
        "\n",
        "model = models.Sequential()\n",
        "model.add(layers.Dense(64, activation='relu', input_shape=(10000,)))\n",
        "model.add(layers.Dense(64, activation='relu'))\n",
        "model.add(layers.Dense(64, activation='relu'))\n",
        "model.add(layers.Dense(46, activation='softmax'))"
      ],
      "execution_count": 9,
      "outputs": []
    },
    {
      "cell_type": "code",
      "metadata": {
        "id": "4lA8rFxBsHN9"
      },
      "source": [
        "model.compile(optimizer='rmsprop',\n",
        "              loss='categorical_crossentropy',\n",
        "              metrics=['accuracy'])"
      ],
      "execution_count": 10,
      "outputs": []
    },
    {
      "cell_type": "markdown",
      "metadata": {
        "id": "Bg0zOaEHsHOG"
      },
      "source": [
        "## Validating our approach\n",
        "\n",
        "Let's set apart 1,000 samples in our training data to use as a validation set:"
      ]
    },
    {
      "cell_type": "code",
      "metadata": {
        "id": "L1UPltnFsHOI"
      },
      "source": [
        "x_val = x_train[:1000]\n",
        "partial_x_train = x_train[1000:]\n",
        "\n",
        "y_val = one_hot_train_labels[:1000]\n",
        "partial_y_train = one_hot_train_labels[1000:]"
      ],
      "execution_count": 11,
      "outputs": []
    },
    {
      "cell_type": "markdown",
      "metadata": {
        "id": "WaMJR0cgsHOM"
      },
      "source": [
        "Now let's train our network for 20 epochs:"
      ]
    },
    {
      "cell_type": "code",
      "metadata": {
        "id": "fmHxgj34sHOO",
        "outputId": "db194230-6bfe-45f9-fef1-5c1f2e774bc2",
        "colab": {
          "base_uri": "https://localhost:8080/",
          "height": 744
        }
      },
      "source": [
        "history = model.fit(partial_x_train,\n",
        "                    partial_y_train,\n",
        "                    epochs=20,\n",
        "                    batch_size=512,\n",
        "                    validation_data=(x_val, y_val))"
      ],
      "execution_count": 12,
      "outputs": [
        {
          "output_type": "stream",
          "text": [
            "Epoch 1/20\n",
            "16/16 [==============================] - 1s 54ms/step - loss: 2.5885 - accuracy: 0.4838 - val_loss: 1.5949 - val_accuracy: 0.6440\n",
            "Epoch 2/20\n",
            "16/16 [==============================] - 1s 41ms/step - loss: 1.3376 - accuracy: 0.7100 - val_loss: 1.2772 - val_accuracy: 0.7260\n",
            "Epoch 3/20\n",
            "16/16 [==============================] - 1s 41ms/step - loss: 1.0051 - accuracy: 0.7824 - val_loss: 1.1143 - val_accuracy: 0.7550\n",
            "Epoch 4/20\n",
            "16/16 [==============================] - 1s 41ms/step - loss: 0.8016 - accuracy: 0.8279 - val_loss: 1.0584 - val_accuracy: 0.7760\n",
            "Epoch 5/20\n",
            "16/16 [==============================] - 1s 43ms/step - loss: 0.6316 - accuracy: 0.8649 - val_loss: 1.0393 - val_accuracy: 0.7720\n",
            "Epoch 6/20\n",
            "16/16 [==============================] - 1s 42ms/step - loss: 0.5084 - accuracy: 0.8904 - val_loss: 0.9607 - val_accuracy: 0.8070\n",
            "Epoch 7/20\n",
            "16/16 [==============================] - 1s 41ms/step - loss: 0.4115 - accuracy: 0.9119 - val_loss: 0.9621 - val_accuracy: 0.7980\n",
            "Epoch 8/20\n",
            "16/16 [==============================] - 1s 42ms/step - loss: 0.3341 - accuracy: 0.9290 - val_loss: 0.9803 - val_accuracy: 0.7990\n",
            "Epoch 9/20\n",
            "16/16 [==============================] - 1s 41ms/step - loss: 0.2754 - accuracy: 0.9394 - val_loss: 1.0321 - val_accuracy: 0.7840\n",
            "Epoch 10/20\n",
            "16/16 [==============================] - 1s 41ms/step - loss: 0.2398 - accuracy: 0.9468 - val_loss: 1.0000 - val_accuracy: 0.8010\n",
            "Epoch 11/20\n",
            "16/16 [==============================] - 1s 42ms/step - loss: 0.2096 - accuracy: 0.9481 - val_loss: 1.1369 - val_accuracy: 0.7890\n",
            "Epoch 12/20\n",
            "16/16 [==============================] - 1s 42ms/step - loss: 0.1815 - accuracy: 0.9500 - val_loss: 1.0313 - val_accuracy: 0.8050\n",
            "Epoch 13/20\n",
            "16/16 [==============================] - 1s 41ms/step - loss: 0.1717 - accuracy: 0.9518 - val_loss: 1.1161 - val_accuracy: 0.7960\n",
            "Epoch 14/20\n",
            "16/16 [==============================] - 1s 41ms/step - loss: 0.1540 - accuracy: 0.9553 - val_loss: 1.1828 - val_accuracy: 0.7860\n",
            "Epoch 15/20\n",
            "16/16 [==============================] - 1s 41ms/step - loss: 0.1444 - accuracy: 0.9564 - val_loss: 1.1246 - val_accuracy: 0.8000\n",
            "Epoch 16/20\n",
            "16/16 [==============================] - 1s 42ms/step - loss: 0.1365 - accuracy: 0.9563 - val_loss: 1.1277 - val_accuracy: 0.7990\n",
            "Epoch 17/20\n",
            "16/16 [==============================] - 1s 41ms/step - loss: 0.1396 - accuracy: 0.9577 - val_loss: 1.1469 - val_accuracy: 0.8010\n",
            "Epoch 18/20\n",
            "16/16 [==============================] - 1s 42ms/step - loss: 0.1220 - accuracy: 0.9583 - val_loss: 1.2216 - val_accuracy: 0.7840\n",
            "Epoch 19/20\n",
            "16/16 [==============================] - 1s 42ms/step - loss: 0.1252 - accuracy: 0.9569 - val_loss: 1.1117 - val_accuracy: 0.8030\n",
            "Epoch 20/20\n",
            "16/16 [==============================] - 1s 41ms/step - loss: 0.1237 - accuracy: 0.9563 - val_loss: 1.1792 - val_accuracy: 0.7940\n"
          ],
          "name": "stdout"
        }
      ]
    },
    {
      "cell_type": "markdown",
      "metadata": {
        "id": "Jh9bC1Z8sHOV"
      },
      "source": [
        "Let's display its loss and accuracy curves:"
      ]
    },
    {
      "cell_type": "code",
      "metadata": {
        "id": "1EOCmRIOsHOX",
        "outputId": "917d6eb4-fd38-4880-dd66-86c8c7dabff7",
        "colab": {
          "base_uri": "https://localhost:8080/",
          "height": 295
        }
      },
      "source": [
        "import matplotlib.pyplot as plt\n",
        "\n",
        "loss = history.history['loss']\n",
        "val_loss = history.history['val_loss']\n",
        "\n",
        "epochs = range(1, len(loss) + 1)\n",
        "\n",
        "plt.plot(epochs, loss, 'bo', label='Training loss')\n",
        "plt.plot(epochs, val_loss, 'b', label='Validation loss')\n",
        "plt.title('Training and validation loss')\n",
        "plt.xlabel('Epochs')\n",
        "plt.ylabel('Loss')\n",
        "plt.legend()\n",
        "\n",
        "plt.show()"
      ],
      "execution_count": 13,
      "outputs": [
        {
          "output_type": "display_data",
          "data": {
            "image/png": "[encoded data removed]",
            "text/plain": [
              "<Figure size 432x288 with 1 Axes>"
            ]
          },
          "metadata": {
            "tags": [],
            "needs_background": "light"
          }
        }
      ]
    },
    {
      "cell_type": "code",
      "metadata": {
        "id": "n8AzW7X_mCPf",
        "outputId": "bb5961a2-5488-4a89-9000-f38c1c49a6ab",
        "colab": {
          "base_uri": "https://localhost:8080/",
          "height": 35
        }
      },
      "source": [
        "history.history.keys()"
      ],
      "execution_count": 14,
      "outputs": [
        {
          "output_type": "execute_result",
          "data": {
            "text/plain": [
              "dict_keys(['loss', 'accuracy', 'val_loss', 'val_accuracy'])"
            ]
          },
          "metadata": {
            "tags": []
          },
          "execution_count": 14
        }
      ]
    },
    {
      "cell_type": "code",
      "metadata": {
        "id": "Df_CPWeNsHOb",
        "outputId": "f755ecc1-7a9b-4281-b1c1-60de2b006836",
        "colab": {
          "base_uri": "https://localhost:8080/",
          "height": 295
        }
      },
      "source": [
        "plt.clf()   # clear figure\n",
        "\n",
        "acc = history.history['accuracy']\n",
        "val_acc = history.history['val_accuracy']\n",
        "\n",
        "plt.plot(epochs, acc, 'bo', label='Training acc')\n",
        "plt.plot(epochs, val_acc, 'b', label='Validation acc')\n",
        "plt.title('Training and validation accuracy')\n",
        "plt.xlabel('Epochs')\n",
        "plt.ylabel('Loss')\n",
        "plt.legend()\n",
        "\n",
        "plt.show()"
      ],
      "execution_count": 15,
      "outputs": [
        {
          "output_type": "display_data",
          "data": {
            "image/png": "[encoded data removed]",
            "text/plain": [
              "<Figure size 432x288 with 1 Axes>"
            ]
          },
          "metadata": {
            "tags": [],
            "needs_background": "light"
          }
        }
      ]
    },
    {
      "cell_type": "markdown",
      "metadata": {
        "id": "7DTOU_7BsHOi"
      },
      "source": [
        "It seems that the network starts overfitting after 5 epochs. Let's train a new network from scratch for 5 epochs, then let's evaluate it on \n",
        "the test set:"
      ]
    },
    {
      "cell_type": "code",
      "metadata": {
        "id": "kD7fvwZIsHOj",
        "outputId": "3b4bb97f-a7e5-42c7-adb6-3e9c6d491705",
        "colab": {
          "base_uri": "https://localhost:8080/",
          "height": 217
        }
      },
      "source": [
        "model = models.Sequential()\n",
        "model.add(layers.Dense(64, activation='relu', input_shape=(10000,)))\n",
        "model.add(layers.Dense(64, activation='relu'))\n",
        "model.add(layers.Dense(64, activation='relu'))\n",
        "model.add(layers.Dense(46, activation='softmax'))\n",
        "\n",
        "model.compile(optimizer='rmsprop',\n",
        "              loss='categorical_crossentropy',\n",
        "              metrics=['accuracy'])\n",
        "model.fit(partial_x_train,\n",
        "          partial_y_train,\n",
        "          epochs=5,\n",
        "          batch_size=512,\n",
        "          validation_data=(x_val, y_val))\n",
        "results = model.evaluate(x_test, one_hot_test_labels)"
      ],
      "execution_count": 16,
      "outputs": [
        {
          "output_type": "stream",
          "text": [
            "Epoch 1/5\n",
            "16/16 [==============================] - 1s 50ms/step - loss: 2.6461 - accuracy: 0.4402 - val_loss: 1.7444 - val_accuracy: 0.6050\n",
            "Epoch 2/5\n",
            "16/16 [==============================] - 1s 41ms/step - loss: 1.4553 - accuracy: 0.6883 - val_loss: 1.3232 - val_accuracy: 0.7050\n",
            "Epoch 3/5\n",
            "16/16 [==============================] - 1s 41ms/step - loss: 1.0976 - accuracy: 0.7532 - val_loss: 1.1663 - val_accuracy: 0.7440\n",
            "Epoch 4/5\n",
            "16/16 [==============================] - 1s 41ms/step - loss: 0.8579 - accuracy: 0.8082 - val_loss: 1.0983 - val_accuracy: 0.7500\n",
            "Epoch 5/5\n",
            "16/16 [==============================] - 1s 41ms/step - loss: 0.6907 - accuracy: 0.8469 - val_loss: 1.0157 - val_accuracy: 0.7770\n",
            "71/71 [==============================] - 0s 2ms/step - loss: 1.0729 - accuracy: 0.7649\n"
          ],
          "name": "stdout"
        }
      ]
    },
    {
      "cell_type": "code",
      "metadata": {
        "id": "n0rV_cBwsHOr",
        "outputId": "e20b1ee9-8a34-452a-eddf-ab2dcc976999",
        "colab": {
          "base_uri": "https://localhost:8080/",
          "height": 35
        }
      },
      "source": [
        "results"
      ],
      "execution_count": null,
      "outputs": [
        {
          "output_type": "execute_result",
          "data": {
            "text/plain": [
              "[0.9852544665336609, 0.784060537815094]"
            ]
          },
          "metadata": {
            "tags": []
          },
          "execution_count": 40
        }
      ]
    },
    {
      "cell_type": "markdown",
      "metadata": {
        "id": "EXuw0CwfsHO2"
      },
      "source": [
        "## Generating predictions on new data\n",
        "\n",
        "We can verify that the `predict` method of our model instance returns a probability distribution over all 46 topics. Let's generate topic \n",
        "predictions for all of the test data:"
      ]
    },
    {
      "cell_type": "code",
      "metadata": {
        "id": "EMIc_E-hsHO5"
      },
      "source": [
        "predictions = model.predict(x_test)"
      ],
      "execution_count": 35,
      "outputs": []
    },
    {
      "cell_type": "markdown",
      "metadata": {
        "id": "85IhhlvCsHO_"
      },
      "source": [
        "Each entry in `predictions` is a vector of length 46:"
      ]
    },
    {
      "cell_type": "code",
      "metadata": {
        "id": "CK_4xNmc1rpK",
        "outputId": "ea43b912-b89c-4e34-9910-a961ddcf4bd1",
        "colab": {
          "base_uri": "https://localhost:8080/",
          "height": 235
        }
      },
      "source": [
        "predictions[0]"
      ],
      "execution_count": 36,
      "outputs": [
        {
          "output_type": "execute_result",
          "data": {
            "text/plain": [
              "array([1.44869802e-04, 3.87224456e-04, 1.92206226e-05, 9.61363077e-01,\n",
              "       2.04092134e-02, 4.24569407e-06, 7.70175175e-05, 3.41799159e-06,\n",
              "       1.60565751e-03, 2.59566033e-04, 1.65770671e-05, 1.02506019e-03,\n",
              "       4.58203649e-05, 1.13826687e-03, 3.72761097e-05, 4.20715987e-05,\n",
              "       6.09523151e-03, 3.45853943e-04, 4.42954406e-05, 2.56729731e-03,\n",
              "       6.44316373e-04, 2.10918646e-04, 2.89967938e-05, 1.19870943e-04,\n",
              "       1.82262113e-04, 4.08647436e-04, 5.45033436e-05, 2.34174859e-05,\n",
              "       7.38241943e-04, 1.33847934e-04, 1.45953891e-05, 3.93074879e-05,\n",
              "       2.77130486e-04, 2.02313777e-06, 3.64819134e-05, 1.77428626e-06,\n",
              "       6.48316985e-04, 1.27002995e-05, 1.40963330e-05, 4.04697203e-04,\n",
              "       2.21001421e-04, 1.08797365e-04, 3.09638381e-05, 5.44378599e-06,\n",
              "       4.69758334e-06, 1.75095477e-06], dtype=float32)"
            ]
          },
          "metadata": {
            "tags": []
          },
          "execution_count": 36
        }
      ]
    },
    {
      "cell_type": "code",
      "metadata": {
        "id": "8nvkJcylsHPN",
        "outputId": "bf756120-26cc-4e9f-9811-abab81b45226",
        "colab": {
          "base_uri": "https://localhost:8080/",
          "height": 35
        }
      },
      "source": [
        "np.argmax(predictions[0])"
      ],
      "execution_count": 38,
      "outputs": [
        {
          "output_type": "execute_result",
          "data": {
            "text/plain": [
              "3"
            ]
          },
          "metadata": {
            "tags": []
          },
          "execution_count": 38
        }
      ]
    },
    {
      "cell_type": "markdown",
      "metadata": {
        "id": "St8B5mpEsHPX"
      },
      "source": [
        "## A different way to handle the labels and the loss\n",
        "\n",
        "We mentioned earlier that another way to encode the labels would be to cast them as an integer tensor (the last way is one-hot-label), like such:"
      ]
    },
    {
      "cell_type": "code",
      "metadata": {
        "id": "p36bBvYmsHPb"
      },
      "source": [
        "y_train = np.array(train_labels)\n",
        "y_test = np.array(test_labels)"
      ],
      "execution_count": 17,
      "outputs": []
    },
    {
      "cell_type": "code",
      "metadata": {
        "id": "J5aSEinHwifb"
      },
      "source": [
        "y_val = y_train[:1000]\n",
        "partial_x_train = x_train[1000:]\n",
        "partial_y_train = y_train[1000:]"
      ],
      "execution_count": 18,
      "outputs": []
    },
    {
      "cell_type": "code",
      "metadata": {
        "id": "WAg9H6ZksHPs",
        "outputId": "1e54f17a-af1a-4ca7-f345-3b8e07e64b86",
        "colab": {
          "base_uri": "https://localhost:8080/",
          "height": 217
        }
      },
      "source": [
        "model = models.Sequential()\n",
        "model.add(layers.Dense(64, activation='relu', input_shape=(10000,)))\n",
        "model.add(layers.Dense(64, activation='relu'))\n",
        "model.add(layers.Dense(64, activation='relu'))\n",
        "model.add(layers.Dense(46, activation='softmax'))\n",
        "\n",
        "model.compile(optimizer='rmsprop',\n",
        "              loss='sparse_categorical_crossentropy',\n",
        "              metrics=['accuracy'])\n",
        "model.fit(partial_x_train,\n",
        "          partial_y_train,\n",
        "          epochs=5,\n",
        "          batch_size=128,\n",
        "          validation_data=(x_val, y_val))"
      ],
      "execution_count": 20,
      "outputs": [
        {
          "output_type": "stream",
          "text": [
            "Epoch 1/5\n",
            "63/63 [==============================] - 1s 19ms/step - loss: 1.8140 - accuracy: 0.6040 - val_loss: 1.3564 - val_accuracy: 0.6810\n",
            "Epoch 2/5\n",
            "63/63 [==============================] - 2s 26ms/step - loss: 1.0042 - accuracy: 0.7766 - val_loss: 1.0712 - val_accuracy: 0.7500\n",
            "Epoch 3/5\n",
            "63/63 [==============================] - 2s 28ms/step - loss: 0.6743 - accuracy: 0.8508 - val_loss: 0.9794 - val_accuracy: 0.7930\n",
            "Epoch 4/5\n",
            "63/63 [==============================] - 2s 29ms/step - loss: 0.4620 - accuracy: 0.9019 - val_loss: 1.0157 - val_accuracy: 0.7910\n",
            "Epoch 5/5\n",
            "63/63 [==============================] - 2s 30ms/step - loss: 0.3297 - accuracy: 0.9270 - val_loss: 0.9700 - val_accuracy: 0.8130\n"
          ],
          "name": "stdout"
        },
        {
          "output_type": "execute_result",
          "data": {
            "text/plain": [
              "<tensorflow.python.keras.callbacks.History at 0x7f582db0beb8>"
            ]
          },
          "metadata": {
            "tags": []
          },
          "execution_count": 20
        }
      ]
    },
    {
      "cell_type": "markdown",
      "metadata": {
        "id": "ZE-99zWJsHPy"
      },
      "source": [
        "## Wrapping up\n",
        "\n",
        "\n",
        "Here's what you should take away from this example:\n",
        "\n",
        "* If you are trying to classify data points between N classes, your network should end with a `Dense` layer of size N.\n",
        "* In a single-label, multi-class classification problem, your network should end with a `softmax` activation, so that it will output a \n",
        "probability distribution over the N output classes.\n",
        "* _Categorical crossentropy_ is almost always the loss function you should use for such problems. It minimizes the distance between the \n",
        "probability distributions output by the network, and the true distribution of the targets.\n",
        "* There are two ways to handle labels in multi-class classification:\n",
        "    ** Encoding the labels via \"categorical encoding\" (also known as \"one-hot encoding\") and using `categorical_crossentropy` as your loss \n",
        "function.\n",
        "    ** Encoding the labels as integers and using the `sparse_categorical_crossentropy` loss function.\n",
        "* If you need to classify data into a large number of categories, then you should avoid creating information bottlenecks in your network by having \n",
        "intermediate layers that are too small."
      ]
    }
  ]
}